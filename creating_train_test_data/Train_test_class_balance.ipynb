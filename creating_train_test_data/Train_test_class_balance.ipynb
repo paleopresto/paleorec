{
 "cells": [
  {
   "cell_type": "code",
   "execution_count": 7,
   "id": "closing-seeker",
   "metadata": {},
   "outputs": [],
   "source": [
    "import pandas\n",
    "from collections import Counter\n",
    "import numpy as np"
   ]
  },
  {
   "cell_type": "code",
   "execution_count": 9,
   "id": "enormous-relation",
   "metadata": {},
   "outputs": [],
   "source": [
    "train_df = pandas.read_csv('D:\\\\annotating_paleoclimate_data\\\\paleorec\\\\data\\\\csv\\\\lipdverse_downsampled_20210329_140022.csv')"
   ]
  },
  {
   "cell_type": "code",
   "execution_count": 10,
   "id": "breathing-aircraft",
   "metadata": {},
   "outputs": [],
   "source": [
    "test_df = pandas.read_csv('D:\\\\annotating_paleoclimate_data\\\\paleorec\\\\data\\\\csv\\\\lipdverse_test_20210329_140022.csv')"
   ]
  },
  {
   "cell_type": "code",
   "execution_count": 11,
   "id": "retired-lounge",
   "metadata": {},
   "outputs": [],
   "source": [
    "train_arch = Counter(train_df['archiveType'])\n",
    "test_arch = Counter(test_df['archiveType'])"
   ]
  },
  {
   "cell_type": "code",
   "execution_count": 12,
   "id": "eleven-ordinary",
   "metadata": {},
   "outputs": [],
   "source": [
    "train_len = len(train_df)\n",
    "test_len = len(test_df)"
   ]
  },
  {
   "cell_type": "code",
   "execution_count": 13,
   "id": "surprising-canberra",
   "metadata": {},
   "outputs": [],
   "source": [
    "train_percent ,test_percent = {}, {}\n",
    "for key, val in train_arch.items():\n",
    "    train_percent[key] = val/train_len\n",
    "for key, val in test_arch.items():\n",
    "    test_percent[key] = val/test_len"
   ]
  },
  {
   "cell_type": "code",
   "execution_count": 14,
   "id": "bearing-powell",
   "metadata": {},
   "outputs": [
    {
     "data": {
      "text/plain": [
       "{'Wood': 0.679637325273895,\n",
       " 'MarineSediment': 0.2213826973932754,\n",
       " 'GlacierIce': 0.017378163959199094,\n",
       " 'Speleothem': 0.004533434076312807,\n",
       " 'Coral': 0.055534567434831886,\n",
       " 'LakeSediment': 0.014733660748016623,\n",
       " 'h': 0.003400075557234605,\n",
       " 'MollusckShell': 0.00037778617302606723,\n",
       " 'Sclerosponge': 0.0022667170381564035,\n",
       " 'Hybrid': 0.0007555723460521345}"
      ]
     },
     "execution_count": 14,
     "metadata": {},
     "output_type": "execute_result"
    }
   ],
   "source": [
    "train_percent"
   ]
  },
  {
   "cell_type": "code",
   "execution_count": 15,
   "id": "precise-confusion",
   "metadata": {},
   "outputs": [
    {
     "data": {
      "text/plain": [
       "{'Coral': 0.05860113421550094,\n",
       " 'Wood': 0.6786389413988658,\n",
       " 'MarineSediment': 0.22117202268431002,\n",
       " 'GlacierIce': 0.01890359168241966,\n",
       " 'LakeSediment': 0.013232514177693762,\n",
       " 'Sclerosponge': 0.003780718336483932,\n",
       " 'Speleothem': 0.005671077504725898}"
      ]
     },
     "execution_count": 15,
     "metadata": {},
     "output_type": "execute_result"
    }
   ],
   "source": [
    "test_percent"
   ]
  },
  {
   "cell_type": "code",
   "execution_count": 42,
   "id": "varied-limitation",
   "metadata": {},
   "outputs": [],
   "source": [
    "train_df = pandas.read_csv('D:\\\\annotating_paleoclimate_data\\\\paleorec\\\\data\\\\csv\\\\common_lipdverse_table_20210422_022713.csv')\n",
    "train_inf = pandas.read_csv('D:\\\\annotating_paleoclimate_data\\\\paleorec\\\\data\\\\csv\\\\common_lipdverse_inferred_20210422_022713.csv')"
   ]
  },
  {
   "cell_type": "code",
   "execution_count": 43,
   "id": "opposed-joseph",
   "metadata": {},
   "outputs": [
    {
     "data": {
      "text/html": [
       "<div>\n",
       "<style scoped>\n",
       "    .dataframe tbody tr th:only-of-type {\n",
       "        vertical-align: middle;\n",
       "    }\n",
       "\n",
       "    .dataframe tbody tr th {\n",
       "        vertical-align: top;\n",
       "    }\n",
       "\n",
       "    .dataframe thead th {\n",
       "        text-align: right;\n",
       "    }\n",
       "</style>\n",
       "<table border=\"1\" class=\"dataframe\">\n",
       "  <thead>\n",
       "    <tr style=\"text-align: right;\">\n",
       "      <th></th>\n",
       "      <th>coordinates</th>\n",
       "      <th>publication</th>\n",
       "      <th>filename</th>\n",
       "      <th>archiveType</th>\n",
       "      <th>variableType</th>\n",
       "      <th>description</th>\n",
       "      <th>proxyObservationType</th>\n",
       "      <th>units</th>\n",
       "      <th>rank</th>\n",
       "      <th>interpretation/variable</th>\n",
       "      <th>interpretation/variableDetail</th>\n",
       "      <th>inferredVariable</th>\n",
       "      <th>inferredVarUnits</th>\n",
       "    </tr>\n",
       "  </thead>\n",
       "  <tbody>\n",
       "    <tr>\n",
       "      <th>0</th>\n",
       "      <td>[29.18, -24, 1450]</td>\n",
       "      <td>PAGES2kv2</td>\n",
       "      <td>Afr-ColdAirCave.Sundqvist.2013.lpd</td>\n",
       "      <td>speleothem</td>\n",
       "      <td>measured</td>\n",
       "      <td>inferred temperature</td>\n",
       "      <td>D18O</td>\n",
       "      <td>permil</td>\n",
       "      <td>1.0</td>\n",
       "      <td>NaN</td>\n",
       "      <td>Air Condensationlevel</td>\n",
       "      <td>NaN</td>\n",
       "      <td>NaN</td>\n",
       "    </tr>\n",
       "    <tr>\n",
       "      <th>1</th>\n",
       "      <td>[29.18, -24, 1450]</td>\n",
       "      <td>PAGES2kv2</td>\n",
       "      <td>Afr-ColdAirCave.Sundqvist.2013.lpd</td>\n",
       "      <td>speleothem</td>\n",
       "      <td>measured</td>\n",
       "      <td>error on temp reconstruction</td>\n",
       "      <td>NaN</td>\n",
       "      <td>degC</td>\n",
       "      <td>NaN</td>\n",
       "      <td>NaN</td>\n",
       "      <td>NaN</td>\n",
       "      <td>NaN</td>\n",
       "      <td>NaN</td>\n",
       "    </tr>\n",
       "    <tr>\n",
       "      <th>2</th>\n",
       "      <td>[34.2883, -10.0033, 477]</td>\n",
       "      <td>PAGES2kv2</td>\n",
       "      <td>Afr-LakeMalawi.Powers.2011.lpd</td>\n",
       "      <td>lake sediment</td>\n",
       "      <td>measured</td>\n",
       "      <td>core name</td>\n",
       "      <td>Core</td>\n",
       "      <td>NaN</td>\n",
       "      <td>NaN</td>\n",
       "      <td>NaN</td>\n",
       "      <td>NaN</td>\n",
       "      <td>NaN</td>\n",
       "      <td>NaN</td>\n",
       "    </tr>\n",
       "    <tr>\n",
       "      <th>3</th>\n",
       "      <td>[34.2883, -10.0033, 477]</td>\n",
       "      <td>PAGES2kv2</td>\n",
       "      <td>Afr-LakeMalawi.Powers.2011.lpd</td>\n",
       "      <td>lake sediment</td>\n",
       "      <td>measured</td>\n",
       "      <td>depth</td>\n",
       "      <td>NaN</td>\n",
       "      <td>cm</td>\n",
       "      <td>NaN</td>\n",
       "      <td>NaN</td>\n",
       "      <td>NaN</td>\n",
       "      <td>NaN</td>\n",
       "      <td>NaN</td>\n",
       "    </tr>\n",
       "    <tr>\n",
       "      <th>4</th>\n",
       "      <td>[34.2883, -10.0033, 477]</td>\n",
       "      <td>PAGES2kv2</td>\n",
       "      <td>Afr-LakeMalawi.Powers.2011.lpd</td>\n",
       "      <td>lake sediment</td>\n",
       "      <td>measured</td>\n",
       "      <td>mean TEX86 from 1-4 replicates</td>\n",
       "      <td>TEX86</td>\n",
       "      <td>NaN</td>\n",
       "      <td>1.0</td>\n",
       "      <td>NaN</td>\n",
       "      <td>Lake Surface</td>\n",
       "      <td>NaN</td>\n",
       "      <td>NaN</td>\n",
       "    </tr>\n",
       "  </tbody>\n",
       "</table>\n",
       "</div>"
      ],
      "text/plain": [
       "                coordinates publication                            filename  \\\n",
       "0        [29.18, -24, 1450]   PAGES2kv2  Afr-ColdAirCave.Sundqvist.2013.lpd   \n",
       "1        [29.18, -24, 1450]   PAGES2kv2  Afr-ColdAirCave.Sundqvist.2013.lpd   \n",
       "2  [34.2883, -10.0033, 477]   PAGES2kv2      Afr-LakeMalawi.Powers.2011.lpd   \n",
       "3  [34.2883, -10.0033, 477]   PAGES2kv2      Afr-LakeMalawi.Powers.2011.lpd   \n",
       "4  [34.2883, -10.0033, 477]   PAGES2kv2      Afr-LakeMalawi.Powers.2011.lpd   \n",
       "\n",
       "     archiveType variableType                     description  \\\n",
       "0     speleothem     measured            inferred temperature   \n",
       "1     speleothem     measured    error on temp reconstruction   \n",
       "2  lake sediment     measured                       core name   \n",
       "3  lake sediment     measured                           depth   \n",
       "4  lake sediment     measured  mean TEX86 from 1-4 replicates   \n",
       "\n",
       "  proxyObservationType   units  rank interpretation/variable  \\\n",
       "0                 D18O  permil   1.0                     NaN   \n",
       "1                  NaN    degC   NaN                     NaN   \n",
       "2                 Core     NaN   NaN                     NaN   \n",
       "3                  NaN      cm   NaN                     NaN   \n",
       "4                TEX86     NaN   1.0                     NaN   \n",
       "\n",
       "  interpretation/variableDetail inferredVariable inferredVarUnits  \n",
       "0         Air Condensationlevel              NaN              NaN  \n",
       "1                           NaN              NaN              NaN  \n",
       "2                           NaN              NaN              NaN  \n",
       "3                           NaN              NaN              NaN  \n",
       "4                  Lake Surface              NaN              NaN  "
      ]
     },
     "execution_count": 43,
     "metadata": {},
     "output_type": "execute_result"
    }
   ],
   "source": [
    "train_df.head()"
   ]
  },
  {
   "cell_type": "code",
   "execution_count": 44,
   "id": "limiting-rehabilitation",
   "metadata": {},
   "outputs": [
    {
     "data": {
      "text/html": [
       "<div>\n",
       "<style scoped>\n",
       "    .dataframe tbody tr th:only-of-type {\n",
       "        vertical-align: middle;\n",
       "    }\n",
       "\n",
       "    .dataframe tbody tr th {\n",
       "        vertical-align: top;\n",
       "    }\n",
       "\n",
       "    .dataframe thead th {\n",
       "        text-align: right;\n",
       "    }\n",
       "</style>\n",
       "<table border=\"1\" class=\"dataframe\">\n",
       "  <thead>\n",
       "    <tr style=\"text-align: right;\">\n",
       "      <th></th>\n",
       "      <th>coordinates</th>\n",
       "      <th>publication</th>\n",
       "      <th>filename</th>\n",
       "      <th>archiveType</th>\n",
       "      <th>variableType</th>\n",
       "      <th>description</th>\n",
       "      <th>interpretation/variable</th>\n",
       "      <th>interpretation/variableDetail</th>\n",
       "      <th>inferredVariable</th>\n",
       "      <th>inferredVarUnits</th>\n",
       "      <th>rank</th>\n",
       "    </tr>\n",
       "  </thead>\n",
       "  <tbody>\n",
       "    <tr>\n",
       "      <th>0</th>\n",
       "      <td>[34.2883, -10.0033, 477]</td>\n",
       "      <td>PAGES2kv2</td>\n",
       "      <td>Afr-LakeMalawi.Powers.2011.lpd</td>\n",
       "      <td>lake sediment</td>\n",
       "      <td>inferred</td>\n",
       "      <td>inferred lake surface temperature</td>\n",
       "      <td>NaN</td>\n",
       "      <td>Lake Surface</td>\n",
       "      <td>Temperature</td>\n",
       "      <td>degC</td>\n",
       "      <td>1.0</td>\n",
       "    </tr>\n",
       "    <tr>\n",
       "      <th>1</th>\n",
       "      <td>[28.53, -6.03, 905]</td>\n",
       "      <td>PAGES2kv2</td>\n",
       "      <td>Afr-LakeTanganyika.Tierney.2010.lpd</td>\n",
       "      <td>lake sediment</td>\n",
       "      <td>inferred</td>\n",
       "      <td>inferred lake surface temperature</td>\n",
       "      <td>NaN</td>\n",
       "      <td>Lake Surface</td>\n",
       "      <td>Temperature</td>\n",
       "      <td>degC</td>\n",
       "      <td>1.0</td>\n",
       "    </tr>\n",
       "    <tr>\n",
       "      <th>2</th>\n",
       "      <td>[44.3, 11.955, -869]</td>\n",
       "      <td>PAGES2kv2</td>\n",
       "      <td>Afr-P178-15P.Tierney.2015.lpd</td>\n",
       "      <td>marine sediment</td>\n",
       "      <td>inferred</td>\n",
       "      <td>median calibrated ssts from tex86, using BAYSP...</td>\n",
       "      <td>NaN</td>\n",
       "      <td>Sea Surface</td>\n",
       "      <td>Temperature</td>\n",
       "      <td>degC</td>\n",
       "      <td>1.0</td>\n",
       "    </tr>\n",
       "    <tr>\n",
       "      <th>3</th>\n",
       "      <td>[112.807, -66.77, 1370]</td>\n",
       "      <td>PAGES2kv2</td>\n",
       "      <td>Ant-DSS.DahlJensen.1999.lpd</td>\n",
       "      <td>borehole</td>\n",
       "      <td>inferred</td>\n",
       "      <td>surface temperature</td>\n",
       "      <td>NaN</td>\n",
       "      <td>Ice Surface</td>\n",
       "      <td>Temperature</td>\n",
       "      <td>degC</td>\n",
       "      <td>1.0</td>\n",
       "    </tr>\n",
       "    <tr>\n",
       "      <th>4</th>\n",
       "      <td>[-112.125, -79.463, 1766]</td>\n",
       "      <td>PAGES2kv2</td>\n",
       "      <td>Ant-WAIS-Divide.Severinghaus.2012.lpd</td>\n",
       "      <td>borehole</td>\n",
       "      <td>inferred</td>\n",
       "      <td>surface temperature</td>\n",
       "      <td>NaN</td>\n",
       "      <td>Ice Surface</td>\n",
       "      <td>Temperature</td>\n",
       "      <td>degC</td>\n",
       "      <td>1.0</td>\n",
       "    </tr>\n",
       "  </tbody>\n",
       "</table>\n",
       "</div>"
      ],
      "text/plain": [
       "                 coordinates publication  \\\n",
       "0   [34.2883, -10.0033, 477]   PAGES2kv2   \n",
       "1        [28.53, -6.03, 905]   PAGES2kv2   \n",
       "2       [44.3, 11.955, -869]   PAGES2kv2   \n",
       "3    [112.807, -66.77, 1370]   PAGES2kv2   \n",
       "4  [-112.125, -79.463, 1766]   PAGES2kv2   \n",
       "\n",
       "                                filename      archiveType variableType  \\\n",
       "0         Afr-LakeMalawi.Powers.2011.lpd    lake sediment     inferred   \n",
       "1    Afr-LakeTanganyika.Tierney.2010.lpd    lake sediment     inferred   \n",
       "2          Afr-P178-15P.Tierney.2015.lpd  marine sediment     inferred   \n",
       "3            Ant-DSS.DahlJensen.1999.lpd         borehole     inferred   \n",
       "4  Ant-WAIS-Divide.Severinghaus.2012.lpd         borehole     inferred   \n",
       "\n",
       "                                         description interpretation/variable  \\\n",
       "0                  inferred lake surface temperature                     NaN   \n",
       "1                  inferred lake surface temperature                     NaN   \n",
       "2  median calibrated ssts from tex86, using BAYSP...                     NaN   \n",
       "3                                surface temperature                     NaN   \n",
       "4                                surface temperature                     NaN   \n",
       "\n",
       "  interpretation/variableDetail inferredVariable inferredVarUnits rank  \n",
       "0                  Lake Surface      Temperature             degC  1.0  \n",
       "1                  Lake Surface      Temperature             degC  1.0  \n",
       "2                   Sea Surface      Temperature             degC  1.0  \n",
       "3                   Ice Surface      Temperature             degC  1.0  \n",
       "4                   Ice Surface      Temperature             degC  1.0  "
      ]
     },
     "execution_count": 44,
     "metadata": {},
     "output_type": "execute_result"
    }
   ],
   "source": [
    "train_inf.head()"
   ]
  },
  {
   "cell_type": "code",
   "execution_count": 45,
   "id": "sporting-victim",
   "metadata": {},
   "outputs": [],
   "source": [
    "train_df = train_df.filter(['filename', 'archiveType'])\n",
    "train_inf = train_inf.filter(['filename', 'archiveType'])"
   ]
  },
  {
   "cell_type": "code",
   "execution_count": 46,
   "id": "mental-indication",
   "metadata": {},
   "outputs": [
    {
     "data": {
      "text/html": [
       "<div>\n",
       "<style scoped>\n",
       "    .dataframe tbody tr th:only-of-type {\n",
       "        vertical-align: middle;\n",
       "    }\n",
       "\n",
       "    .dataframe tbody tr th {\n",
       "        vertical-align: top;\n",
       "    }\n",
       "\n",
       "    .dataframe thead th {\n",
       "        text-align: right;\n",
       "    }\n",
       "</style>\n",
       "<table border=\"1\" class=\"dataframe\">\n",
       "  <thead>\n",
       "    <tr style=\"text-align: right;\">\n",
       "      <th></th>\n",
       "      <th>filename</th>\n",
       "      <th>archiveType</th>\n",
       "    </tr>\n",
       "  </thead>\n",
       "  <tbody>\n",
       "    <tr>\n",
       "      <th>0</th>\n",
       "      <td>Afr-ColdAirCave.Sundqvist.2013.lpd</td>\n",
       "      <td>speleothem</td>\n",
       "    </tr>\n",
       "    <tr>\n",
       "      <th>1</th>\n",
       "      <td>Afr-ColdAirCave.Sundqvist.2013.lpd</td>\n",
       "      <td>speleothem</td>\n",
       "    </tr>\n",
       "    <tr>\n",
       "      <th>2</th>\n",
       "      <td>Afr-LakeMalawi.Powers.2011.lpd</td>\n",
       "      <td>lake sediment</td>\n",
       "    </tr>\n",
       "    <tr>\n",
       "      <th>3</th>\n",
       "      <td>Afr-LakeMalawi.Powers.2011.lpd</td>\n",
       "      <td>lake sediment</td>\n",
       "    </tr>\n",
       "    <tr>\n",
       "      <th>4</th>\n",
       "      <td>Afr-LakeMalawi.Powers.2011.lpd</td>\n",
       "      <td>lake sediment</td>\n",
       "    </tr>\n",
       "  </tbody>\n",
       "</table>\n",
       "</div>"
      ],
      "text/plain": [
       "                             filename    archiveType\n",
       "0  Afr-ColdAirCave.Sundqvist.2013.lpd     speleothem\n",
       "1  Afr-ColdAirCave.Sundqvist.2013.lpd     speleothem\n",
       "2      Afr-LakeMalawi.Powers.2011.lpd  lake sediment\n",
       "3      Afr-LakeMalawi.Powers.2011.lpd  lake sediment\n",
       "4      Afr-LakeMalawi.Powers.2011.lpd  lake sediment"
      ]
     },
     "execution_count": 46,
     "metadata": {},
     "output_type": "execute_result"
    }
   ],
   "source": [
    "train_df.head()"
   ]
  },
  {
   "cell_type": "code",
   "execution_count": 47,
   "id": "serial-nancy",
   "metadata": {},
   "outputs": [],
   "source": [
    "def something(dataframe_obj,col1, col2):\n",
    "    counter_dict = {}\n",
    "    archives_map = {\"marine sediment\": \"MarineSediment\", \"lake sediment\": \"LakeSediment\", \"glacier ice\": \"GlacierIce\", \"documents\": \"Documents\", \"borehole\": \"Rock\", \"tree\": \"Wood\", \"bivalve\": \"MolluskShell\", \"mollusk shell\": \"MolluskShell\", \"coral\": \"Coral\", \"speleothem\": \"Speleothem\", \"sclerosponge\": \"Sclerosponge\", \"hybrid\": \"Hybrid\", \"Sclerosponge\": \"Sclerosponge\", \"Speleothem\": \"Speleothem\", \"Coral\": \"Coral\", \"MarineSediment\": \"MarineSediment\", \"LakeSediment\": \"LakeSediment\", \"GlacierIce\": \"GlacierIce\", \"Documents\": \"Documents\", \"Hybrid\": \"Hybrid\", \"MolluskShell\": \"MolluskShell\", \"Lake\": \"Lake\", \"molluskshell\": \"MolluskShell\", \"Wood\": \"Wood\", \"Rock\": \"Rock\", \"MollusckShell\": \"MolluskShell\", \"MolluskShells\": \"MolluskShell\", \"TerrestrialSediment\": \"TerrestrialSediment\", \"Midden\": \"Midden\", \"Peat\": \"Peat\", \"GroundIce\": \"GroundIce\", \"Ice-other\": \"Ice-other\", \"Marine Sediment\": \"MarineSediment\", \"Lake Sediment\": \"LakeSediment\", \"Mollusk Shell\": \"MolluskShell\", \"Glacier Ice\": \"GlacierIce\", \"Ground Ice\": \"GroundIce\", \"Terrestrial Sediment\": \"TerrestrialSediment\"}\n",
    "\n",
    "    for index, row in train_df.iterrows():\n",
    "        arch = archives_map.get(row[col1], row[col1])\n",
    "        if arch not in counter_dict:\n",
    "            counter_dict[arch] = set()\n",
    "            counter_dict[arch].add(row[col2])\n",
    "        else:\n",
    "            if row[col2] not in counter_dict[arch]:\n",
    "                counter_dict[arch].add(row[col2])\n",
    "    return counter_dict"
   ]
  },
  {
   "cell_type": "code",
   "execution_count": 48,
   "id": "arctic-tonight",
   "metadata": {},
   "outputs": [
    {
     "data": {
      "text/plain": [
       "dict_keys(['Speleothem', 'LakeSediment', 'GlacierIce', 'Wood', 'MarineSediment', 'Hybrid', 'Documents', 'Coral', 'MolluskShell', 'Sclerosponge', 'Peat', 'Ice-other', 'Midden', 'GroundIce', 'TerrestrialSediment'])"
      ]
     },
     "execution_count": 48,
     "metadata": {},
     "output_type": "execute_result"
    }
   ],
   "source": [
    "col2= 'filename'\n",
    "col1 = 'archiveType'\n",
    "cdict1 = something(train_df, col1, col2)\n",
    "\n",
    "cdict2 = something(train_inf, col1, col2)\n",
    "cdict1.keys()"
   ]
  },
  {
   "cell_type": "code",
   "execution_count": 49,
   "id": "dietary-duplicate",
   "metadata": {},
   "outputs": [
    {
     "data": {
      "text/plain": [
       "dict_keys(['Speleothem', 'LakeSediment', 'GlacierIce', 'Wood', 'MarineSediment', 'Hybrid', 'Documents', 'Coral', 'MolluskShell', 'Sclerosponge', 'Peat', 'Ice-other', 'Midden', 'GroundIce', 'TerrestrialSediment'])"
      ]
     },
     "execution_count": 49,
     "metadata": {},
     "output_type": "execute_result"
    }
   ],
   "source": [
    "cdict2.keys()"
   ]
  },
  {
   "cell_type": "code",
   "execution_count": 50,
   "id": "suspended-tsunami",
   "metadata": {},
   "outputs": [
    {
     "name": "stdout",
     "output_type": "stream",
     "text": [
      "Key = Speleothem, Number of Files with this archive = 54\n",
      "Key = LakeSediment, Number of Files with this archive = 147\n",
      "Key = GlacierIce, Number of Files with this archive = 212\n",
      "Key = Wood, Number of Files with this archive = 420\n",
      "Key = MarineSediment, Number of Files with this archive = 246\n",
      "Key = Hybrid, Number of Files with this archive = 1\n",
      "Key = Documents, Number of Files with this archive = 1\n",
      "Key = Coral, Number of Files with this archive = 136\n",
      "Key = MolluskShell, Number of Files with this archive = 2\n",
      "Key = Sclerosponge, Number of Files with this archive = 7\n",
      "Key = Peat, Number of Files with this archive = 4\n",
      "Key = Ice-other, Number of Files with this archive = 2\n",
      "Key = Midden, Number of Files with this archive = 9\n",
      "Key = GroundIce, Number of Files with this archive = 3\n",
      "Key = TerrestrialSediment, Number of Files with this archive = 2\n"
     ]
    }
   ],
   "source": [
    "s = 0\n",
    "for k,v in cdict1.items():\n",
    "    s += len(v) \n",
    "    print('Key = {}, Number of Files with this archive = {}'.format(k, str(len(v))))"
   ]
  },
  {
   "cell_type": "code",
   "execution_count": 51,
   "id": "everyday-lighter",
   "metadata": {},
   "outputs": [
    {
     "data": {
      "text/plain": [
       "1246"
      ]
     },
     "execution_count": 51,
     "metadata": {},
     "output_type": "execute_result"
    }
   ],
   "source": [
    "s"
   ]
  },
  {
   "cell_type": "code",
   "execution_count": 54,
   "id": "wrong-better",
   "metadata": {},
   "outputs": [
    {
     "name": "stdout",
     "output_type": "stream",
     "text": [
      "Key = Speleothem, files = 54\n",
      "Key = LakeSediment, files = 147\n",
      "Key = GlacierIce, files = 212\n",
      "Key = Wood, files = 420\n",
      "Key = MarineSediment, files = 246\n",
      "Key = Hybrid, files = 1\n",
      "Key = Documents, files = 1\n",
      "Key = Coral, files = 136\n",
      "Key = MolluskShell, files = 2\n",
      "Key = Sclerosponge, files = 7\n",
      "Key = Peat, files = 4\n",
      "Key = Ice-other, files = 2\n",
      "Key = Midden, files = 9\n",
      "Key = GroundIce, files = 3\n",
      "Key = TerrestrialSediment, files = 2\n"
     ]
    }
   ],
   "source": [
    "s = 0\n",
    "for k,v in cdict1.items():\n",
    "    s += len(v.union(cdict2[k]))\n",
    "    print('Key = {}, files = {}'.format(k, str(len(v.union(cdict2[k])))))"
   ]
  },
  {
   "cell_type": "code",
   "execution_count": 53,
   "id": "recognized-drill",
   "metadata": {},
   "outputs": [
    {
     "data": {
      "text/plain": [
       "1246"
      ]
     },
     "execution_count": 53,
     "metadata": {},
     "output_type": "execute_result"
    }
   ],
   "source": [
    "s"
   ]
  },
  {
   "cell_type": "code",
   "execution_count": 29,
   "id": "fixed-publicity",
   "metadata": {},
   "outputs": [],
   "source": [
    "train_df = pandas.read_csv('D:\\\\annotating_paleoclimate_data\\\\paleorec\\\\data\\\\csv\\\\merged_common_lipdverse_inferred_20210525_105652.csv')"
   ]
  },
  {
   "cell_type": "code",
   "execution_count": 30,
   "id": "double-advocate",
   "metadata": {},
   "outputs": [
    {
     "data": {
      "text/plain": [
       "(5311, 7)"
      ]
     },
     "execution_count": 30,
     "metadata": {},
     "output_type": "execute_result"
    }
   ],
   "source": [
    "train_df.shape"
   ]
  },
  {
   "cell_type": "code",
   "execution_count": 31,
   "id": "honest-cargo",
   "metadata": {},
   "outputs": [
    {
     "data": {
      "text/html": [
       "<div>\n",
       "<style scoped>\n",
       "    .dataframe tbody tr th:only-of-type {\n",
       "        vertical-align: middle;\n",
       "    }\n",
       "\n",
       "    .dataframe tbody tr th {\n",
       "        vertical-align: top;\n",
       "    }\n",
       "\n",
       "    .dataframe thead th {\n",
       "        text-align: right;\n",
       "    }\n",
       "</style>\n",
       "<table border=\"1\" class=\"dataframe\">\n",
       "  <thead>\n",
       "    <tr style=\"text-align: right;\">\n",
       "      <th></th>\n",
       "      <th>archiveType</th>\n",
       "      <th>proxyObservationType</th>\n",
       "      <th>units</th>\n",
       "      <th>interpretation/variable</th>\n",
       "      <th>interpretation/variableDetail</th>\n",
       "      <th>inferredVariable</th>\n",
       "      <th>inferredVarUnits</th>\n",
       "    </tr>\n",
       "  </thead>\n",
       "  <tbody>\n",
       "    <tr>\n",
       "      <th>0</th>\n",
       "      <td>speleothem</td>\n",
       "      <td>D18O</td>\n",
       "      <td>permil</td>\n",
       "      <td>NaN</td>\n",
       "      <td>Air Condensationlevel</td>\n",
       "      <td>NaN</td>\n",
       "      <td>NaN</td>\n",
       "    </tr>\n",
       "    <tr>\n",
       "      <th>1</th>\n",
       "      <td>speleothem</td>\n",
       "      <td>NaN</td>\n",
       "      <td>degC</td>\n",
       "      <td>NaN</td>\n",
       "      <td>NaN</td>\n",
       "      <td>NaN</td>\n",
       "      <td>NaN</td>\n",
       "    </tr>\n",
       "    <tr>\n",
       "      <th>2</th>\n",
       "      <td>lake sediment</td>\n",
       "      <td>Core</td>\n",
       "      <td>NaN</td>\n",
       "      <td>NaN</td>\n",
       "      <td>NaN</td>\n",
       "      <td>NaN</td>\n",
       "      <td>NaN</td>\n",
       "    </tr>\n",
       "    <tr>\n",
       "      <th>3</th>\n",
       "      <td>lake sediment</td>\n",
       "      <td>NaN</td>\n",
       "      <td>cm</td>\n",
       "      <td>NaN</td>\n",
       "      <td>NaN</td>\n",
       "      <td>NaN</td>\n",
       "      <td>NaN</td>\n",
       "    </tr>\n",
       "    <tr>\n",
       "      <th>4</th>\n",
       "      <td>lake sediment</td>\n",
       "      <td>TEX86</td>\n",
       "      <td>NaN</td>\n",
       "      <td>NaN</td>\n",
       "      <td>Lake Surface</td>\n",
       "      <td>NaN</td>\n",
       "      <td>NaN</td>\n",
       "    </tr>\n",
       "    <tr>\n",
       "      <th>5</th>\n",
       "      <td>lake sediment</td>\n",
       "      <td>TEX86</td>\n",
       "      <td>degC</td>\n",
       "      <td>NaN</td>\n",
       "      <td>NaN</td>\n",
       "      <td>NaN</td>\n",
       "      <td>NaN</td>\n",
       "    </tr>\n",
       "    <tr>\n",
       "      <th>6</th>\n",
       "      <td>lake sediment</td>\n",
       "      <td>NaN</td>\n",
       "      <td>degC</td>\n",
       "      <td>NaN</td>\n",
       "      <td>NaN</td>\n",
       "      <td>NaN</td>\n",
       "      <td>NaN</td>\n",
       "    </tr>\n",
       "    <tr>\n",
       "      <th>7</th>\n",
       "      <td>lake sediment</td>\n",
       "      <td>NaN</td>\n",
       "      <td>degC</td>\n",
       "      <td>NaN</td>\n",
       "      <td>NaN</td>\n",
       "      <td>NaN</td>\n",
       "      <td>NaN</td>\n",
       "    </tr>\n",
       "    <tr>\n",
       "      <th>8</th>\n",
       "      <td>glacier ice</td>\n",
       "      <td>D18O</td>\n",
       "      <td>permil</td>\n",
       "      <td>NaN</td>\n",
       "      <td>Air Condensationlevel</td>\n",
       "      <td>NaN</td>\n",
       "      <td>NaN</td>\n",
       "    </tr>\n",
       "    <tr>\n",
       "      <th>9</th>\n",
       "      <td>glacier ice</td>\n",
       "      <td>D18O</td>\n",
       "      <td>permil</td>\n",
       "      <td>NaN</td>\n",
       "      <td>Air Condensationlevel</td>\n",
       "      <td>NaN</td>\n",
       "      <td>NaN</td>\n",
       "    </tr>\n",
       "  </tbody>\n",
       "</table>\n",
       "</div>"
      ],
      "text/plain": [
       "     archiveType proxyObservationType   units interpretation/variable  \\\n",
       "0     speleothem                 D18O  permil                     NaN   \n",
       "1     speleothem                  NaN    degC                     NaN   \n",
       "2  lake sediment                 Core     NaN                     NaN   \n",
       "3  lake sediment                  NaN      cm                     NaN   \n",
       "4  lake sediment                TEX86     NaN                     NaN   \n",
       "5  lake sediment                TEX86    degC                     NaN   \n",
       "6  lake sediment                  NaN    degC                     NaN   \n",
       "7  lake sediment                  NaN    degC                     NaN   \n",
       "8    glacier ice                 D18O  permil                     NaN   \n",
       "9    glacier ice                 D18O  permil                     NaN   \n",
       "\n",
       "  interpretation/variableDetail inferredVariable inferredVarUnits  \n",
       "0         Air Condensationlevel              NaN              NaN  \n",
       "1                           NaN              NaN              NaN  \n",
       "2                           NaN              NaN              NaN  \n",
       "3                           NaN              NaN              NaN  \n",
       "4                  Lake Surface              NaN              NaN  \n",
       "5                           NaN              NaN              NaN  \n",
       "6                           NaN              NaN              NaN  \n",
       "7                           NaN              NaN              NaN  \n",
       "8         Air Condensationlevel              NaN              NaN  \n",
       "9         Air Condensationlevel              NaN              NaN  "
      ]
     },
     "execution_count": 31,
     "metadata": {},
     "output_type": "execute_result"
    }
   ],
   "source": [
    "train_df.head(10)"
   ]
  },
  {
   "cell_type": "code",
   "execution_count": 36,
   "id": "greatest-vertex",
   "metadata": {},
   "outputs": [],
   "source": [
    "train_df = train_df.replace(np.nan, 'NA', regex=True)"
   ]
  },
  {
   "cell_type": "code",
   "execution_count": 39,
   "id": "sonic-tension",
   "metadata": {},
   "outputs": [
    {
     "data": {
      "text/plain": [
       "(5194, 7)"
      ]
     },
     "execution_count": 39,
     "metadata": {},
     "output_type": "execute_result"
    }
   ],
   "source": [
    "train_df.shape"
   ]
  },
  {
   "cell_type": "code",
   "execution_count": 38,
   "id": "excited-heart",
   "metadata": {},
   "outputs": [],
   "source": [
    "train_df = train_df[train_df.archiveType != 'NA']"
   ]
  },
  {
   "cell_type": "code",
   "execution_count": null,
   "id": "lasting-solution",
   "metadata": {},
   "outputs": [],
   "source": [
    "Key = Speleothem, files = 54\n",
    "Key = LakeSediment, files = 147\n",
    "Key = GlacierIce, files = 212\n",
    "Key = Wood, files = 420\n",
    "Key = MarineSediment, files = 246\n",
    "Key = Hybrid, files = 1\n",
    "Key = Documents, files = 1\n",
    "Key = Coral, files = 136\n",
    "Key = MolluskShell, files = 2\n",
    "Key = Sclerosponge, files = 7\n",
    "Key = Peat, files = 4\n",
    "Key = Ice-other, files = 2\n",
    "Key = Midden, files = 9\n",
    "Key = GroundIce, files = 3\n",
    "Key = TerrestrialSediment, files = 2\n",
    "barchart_keys= ['Speleothem', 'Lake Sediment', 'Glacier Ice', 'Wood', 'Marine Sediment', 'Coral', 'Others']\n",
    "barchart_val = [54, 147, 212, 420, 246, 136, 31]"
   ]
  }
 ],
 "metadata": {
  "kernelspec": {
   "display_name": "Python 3",
   "language": "python",
   "name": "python3"
  },
  "language_info": {
   "codemirror_mode": {
    "name": "ipython",
    "version": 3
   },
   "file_extension": ".py",
   "mimetype": "text/x-python",
   "name": "python",
   "nbconvert_exporter": "python",
   "pygments_lexer": "ipython3",
   "version": "3.8.3"
  }
 },
 "nbformat": 4,
 "nbformat_minor": 5
}
