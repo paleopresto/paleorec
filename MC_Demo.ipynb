{
 "cells": [
  {
   "cell_type": "code",
   "execution_count": 152,
   "id": "cultural-hacker",
   "metadata": {},
   "outputs": [],
   "source": [
    "from MCpredict import *\n",
    "import pandas as pd\n",
    "import ipywidgets as widgets\n",
    "from collections import defaultdict\n",
    "import collections\n",
    "from IPython.display import display\n",
    "from IPython.display import clear_output\n",
    "from ipywidgets import HBox, VBox"
   ]
  },
  {
   "cell_type": "markdown",
   "id": "ultimate-montgomery",
   "metadata": {},
   "source": [
    "************************************ EXAMPLE ************************************************"
   ]
  },
  {
   "cell_type": "code",
   "execution_count": 153,
   "id": "minor-signal",
   "metadata": {},
   "outputs": [],
   "source": [
    "pred_3 = MCpredict(3)\n",
    "pred_4 = MCpredict(4)"
   ]
  },
  {
   "cell_type": "code",
   "execution_count": 154,
   "id": "mathematical-recommendation",
   "metadata": {
    "scrolled": true
   },
   "outputs": [
    {
     "name": "stdout",
     "output_type": "stream",
     "text": [
      "{'0': ['Wood'], '1': ['Trsgi'], '2': ['NA', 'Wood', 'MXD', 'LakeSediment', 'Composite']}\n",
      "{'0': ['MarineSediment'], '1': ['D18O', 'Depth', 'Mg/Ca', 'Uk37Prime', 'D13C'], '2': [['T', 'Temperature', 'NA', 'D18Osw', 'Temperature And Salinity'], ['NA', 'Wood', 'MXD', 'LakeSediment', 'Composite'], ['Temperature', 'NA', 'Wood', 'MXD', 'Composite'], ['Temperature', 'NA', 'Wood', 'MXD', 'Composite'], ['NA', 'Wood', 'MXD', 'LakeSediment', 'Composite']], '3': [[['Sea Surface', 'Air Surface', 'Air Condensationlevel', 'NA', 'Wood'], ['Sea Surface', 'Thermocline', 'Bottom Water', 'Surface Water', 'Subsurface'], ['NA', 'Wood', 'MXD', 'LakeSediment', 'Composite'], ['Sea Surface', 'Bottom Water', 'Surface Water', 'Surface', 'Subsurface'], ['Sea Surface', 'Wood', 'MXD', 'LakeSediment', 'Composite']], [['NA', 'Wood', 'MXD', 'LakeSediment', 'Composite'], ['Trsgi', 'ARS', 'EPS', 'SD', 'Core'], ['T', 'NA', 'Wood', 'MXD', 'Composite'], ['Thickness', 'Depth', 'Core', 'Uk37', 'TEX86'], ['T', 'Wood', 'MXD', 'LakeSediment', 'Composite']], [['Sea Surface', 'Thermocline', 'Bottom Water', 'Surface Water', 'Subsurface'], ['NA', 'Wood', 'MXD', 'LakeSediment', 'Composite'], ['Trsgi', 'ARS', 'EPS', 'SD', 'Core'], ['T', 'NA', 'Wood', 'MXD', 'Composite'], ['T', 'Wood', 'MXD', 'LakeSediment', 'Composite']], [['Sea Surface', 'Thermocline', 'Bottom Water', 'Surface Water', 'Subsurface'], ['NA', 'Wood', 'MXD', 'LakeSediment', 'Composite'], ['Trsgi', 'ARS', 'EPS', 'SD', 'Core'], ['T', 'NA', 'Wood', 'MXD', 'Composite'], ['T', 'Wood', 'MXD', 'LakeSediment', 'Composite']], [['NA', 'Wood', 'MXD', 'LakeSediment', 'Composite'], ['Trsgi', 'ARS', 'EPS', 'SD', 'Core'], ['T', 'NA', 'Wood', 'MXD', 'Composite'], ['Thickness', 'Depth', 'Core', 'Uk37', 'TEX86'], ['T', 'Wood', 'MXD', 'LakeSediment', 'Composite']]]}\n"
     ]
    }
   ],
   "source": [
    "print(pred_3.predict_seq('Wood,Trsgi'))\n",
    "out_list = pred_4.predict_seq('MarineSediment')\n",
    "print(out_list)"
   ]
  },
  {
   "cell_type": "markdown",
   "id": "correct-helicopter",
   "metadata": {},
   "source": [
    "## DEMO ##"
   ]
  },
  {
   "cell_type": "code",
   "execution_count": 196,
   "id": "broken-program",
   "metadata": {},
   "outputs": [],
   "source": [
    "chain_length_dropdown = widgets.Dropdown(options = [3,4], description='Chain Type')\n",
    "predict_for_chain_type = MCpredict(3)\n",
    "input_sent = ''"
   ]
  },
  {
   "cell_type": "code",
   "execution_count": 197,
   "id": "alike-saturday",
   "metadata": {},
   "outputs": [],
   "source": [
    "archive_type_dropdown = widgets.Dropdown(options = sorted(predict_for_chain_type.archive_types), description='Archive Type')"
   ]
  },
  {
   "cell_type": "code",
   "execution_count": 198,
   "id": "accepted-possible",
   "metadata": {},
   "outputs": [],
   "source": [
    "output_proxy = widgets.Output()\n",
    "output_units = widgets.Output()\n",
    "output_int_var = widgets.Output()\n",
    "output_int_var_det = widgets.Output()"
   ]
  },
  {
   "cell_type": "code",
   "execution_count": 199,
   "id": "unavailable-annex",
   "metadata": {},
   "outputs": [],
   "source": [
    "style = {'description_width': 'initial', 'select_width' : 'initial'}\n",
    "\n",
    "# proxy_obs_type_dropdown = widgets.Combobox(options = [], description='Proxy Observation Type', style=style, ensure_option=True,\n",
    "#     disabled=False)\n",
    "# units_dropdown = widgets.Combobox(options = [], description='Units', style=style, ensure_option=True,\n",
    "#     disabled=False)\n",
    "# int_var_dropdown = widgets.Combobox(options = [], description='Interpretation Variable', style=style, ensure_option=True,\n",
    "#     disabled=False)\n",
    "# int_var_det_dropdown = widgets.Combobox(options = [], description='Interpretation Variable Detail', style=style, ensure_option=True,\n",
    "#     disabled=False)\n",
    "\n",
    "proxy_obs_type_dropdown = widgets.Dropdown(options = [], description='Proxy Observation Type', style=style)\n",
    "units_dropdown = widgets.Dropdown(options = [], description='Units', style=style)\n",
    "int_var_dropdown = widgets.Dropdown(options = [], description='Interpretation Variable', style=style)\n",
    "int_var_det_dropdown = widgets.Dropdown(options = [], description='Interpretation Variable Detail', style=style, ensure_option=True,\n",
    "    disabled=False)"
   ]
  },
  {
   "cell_type": "code",
   "execution_count": 200,
   "id": "surrounded-ancient",
   "metadata": {},
   "outputs": [],
   "source": [
    "layout_hidden  = widgets.Layout(visibility = 'hidden')\n",
    "layout_visible = widgets.Layout(visibility = 'visible')"
   ]
  },
  {
   "cell_type": "code",
   "execution_count": 201,
   "id": "dedicated-thanksgiving",
   "metadata": {},
   "outputs": [],
   "source": [
    "def visible_txt(b):\n",
    "    combobox.layout = layout_visible\n",
    "\n",
    "def hidden_txt(b):\n",
    "    combobox.layout = layout_hidden"
   ]
  },
  {
   "cell_type": "code",
   "execution_count": 202,
   "id": "finnish-vertical",
   "metadata": {},
   "outputs": [],
   "source": [
    "def displayChildren(options_list, dropdown_obj, dropdown_eventhandler, to_observe):\n",
    "#     print('inside display children')\n",
    "#     print(options_list)\n",
    "    dropdown_obj.options = options_list\n",
    "    if to_observe:\n",
    "        dropdown_obj.observe(dropdown_eventhandler, names='value')"
   ]
  },
  {
   "cell_type": "code",
   "execution_count": 203,
   "id": "technological-produce",
   "metadata": {},
   "outputs": [],
   "source": [
    "def int_var_dropdown_eventhandler(change):\n",
    "    global input_sent\n",
    "    \n",
    "    output_int_var_det.clear_output()\n",
    "#     int_var_det_dropdown.layout = layout_visible\n",
    "    \n",
    "    int_var_value = change.new\n",
    "    input_sent += ',' + int_var_value\n",
    "    results = predict_for_chain_type.predict_seq(input_sent)\n",
    "\n",
    "    displayChildren(results['3'], int_var_det_dropdown, None, False)\n",
    "    with output_int_var_det:\n",
    "        display(int_var_det_dropdown)"
   ]
  },
  {
   "cell_type": "code",
   "execution_count": 204,
   "id": "spectacular-sound",
   "metadata": {},
   "outputs": [],
   "source": [
    "def proxy_obs_type_dropdown_eventhandler(change):\n",
    "    global input_sent\n",
    "    \n",
    "    output_units.clear_output()\n",
    "    output_int_var.clear_output()\n",
    "    output_int_var_det.clear_output()\n",
    "    \n",
    "    proxy_obs_type_value = change.new\n",
    "    input_sent += ',' + proxy_obs_type_value\n",
    "    results = predict_for_chain_type.predict_seq(input_sent)\n",
    "    \n",
    "    if predict_for_chain_type.chain_length == 3:\n",
    "#         units_dropdown.layout = layout_visible\n",
    "        displayChildren(results['2'], units_dropdown, None, False)\n",
    "        with output_units:\n",
    "            display(units_dropdown)\n",
    "    else:\n",
    "#         int_var_dropdown.layout = layout_visible\n",
    "        displayChildren(results['2'], int_var_dropdown, int_var_dropdown_eventhandler, True)\n",
    "        with output_int_var:\n",
    "            display(int_var_dropdown)"
   ]
  },
  {
   "cell_type": "code",
   "execution_count": 205,
   "id": "exempt-mentor",
   "metadata": {},
   "outputs": [],
   "source": [
    "def archive_type_dropdown_eventhandler(change):\n",
    "    global input_sent\n",
    "    \n",
    "    # value from archive type dropdown\n",
    "    archive_type_value = change.new\n",
    "    input_sent = archive_type_value\n",
    "    \n",
    "    # clear existing values from all children drop downs\n",
    "    output_proxy.clear_output()\n",
    "    \n",
    "    output_units.clear_output()\n",
    "#     units_dropdown.layout = layout_hidden\n",
    "    \n",
    "    output_int_var.clear_output()\n",
    "    output_int_var_det.clear_output()\n",
    "#     int_var_dropdown.layout = layout_hidden\n",
    "#     int_var_det_dropdown.layout = layout_hidden\n",
    "    \n",
    "    # get prediction results from MC model\n",
    "    results = predict_for_chain_type.predict_seq(input_sent)\n",
    "    print('results', results)\n",
    "    displayChildren(results['1'], proxy_obs_type_dropdown, proxy_obs_type_dropdown_eventhandler, True)\n",
    "    \n",
    "    with output_proxy:\n",
    "        display(proxy_obs_type_dropdown)\n",
    "    \n",
    "# archive_type_dropdown.observe(archive_type_dropdown_eventhandler, names='value')\n",
    "\n",
    "# display(archive_type_dropdown)"
   ]
  },
  {
   "cell_type": "code",
   "execution_count": 206,
   "id": "tutorial-mailman",
   "metadata": {},
   "outputs": [],
   "source": [
    "def chain_type_dropdown_eventhandler(change):\n",
    "    global input_sent, predict_for_chain_type\n",
    "    \n",
    "    predict_for_chain_type = MCpredict(change.new)\n",
    "    \n",
    "    input_sent = ''\n",
    "    \n",
    "    output_proxy.clear_output()\n",
    "    \n",
    "    output_units.clear_output()\n",
    "#     units_dropdown.layout = layout_hidden\n",
    "    \n",
    "    output_int_var.clear_output()\n",
    "    output_int_var_det.clear_output()\n",
    "#     int_var_dropdown.layout = layout_hidden\n",
    "#     int_var_det_dropdown.layout = layout_hidden\n",
    "    \n",
    "    archive_type_dropdown.observe(archive_type_dropdown_eventhandler, names='value')\n",
    "    display(archive_type_dropdown)"
   ]
  },
  {
   "cell_type": "code",
   "execution_count": 207,
   "id": "subjective-amsterdam",
   "metadata": {},
   "outputs": [
    {
     "data": {
      "application/vnd.jupyter.widget-view+json": {
       "model_id": "4c09d6a0cfa8440095ec6e362f84a837",
       "version_major": 2,
       "version_minor": 0
      },
      "text/plain": [
       "Dropdown(description='Chain Type', options=(3, 4), value=3)"
      ]
     },
     "metadata": {},
     "output_type": "display_data"
    },
    {
     "data": {
      "application/vnd.jupyter.widget-view+json": {
       "model_id": "1dad58bde70a4f3fb1b961a24002ce69",
       "version_major": 2,
       "version_minor": 0
      },
      "text/plain": [
       "Dropdown(description='Archive Type', options=('Coral', 'GlacierIce', 'Hybrid', 'LakeSediment', 'MarineSediment…"
      ]
     },
     "metadata": {},
     "output_type": "display_data"
    },
    {
     "name": "stdout",
     "output_type": "stream",
     "text": [
      "results {'0': ['GlacierIce'], '1': ['D18O', 'Dd', 'Thickness', 'Depth', 'Wood'], '2': [['T', 'Temperature', 'NA', 'D18Osw', 'Temperature And Salinity'], ['T', 'Wood', 'MXD', 'LakeSediment', 'Composite'], ['T', 'NA', 'Wood', 'MXD', 'Composite'], ['NA', 'Wood', 'MXD', 'LakeSediment', 'Composite'], ['Trsgi', 'ARS', 'EPS', 'SD', 'Core']], '3': [[['Sea Surface', 'Air Surface', 'Air Condensationlevel', 'NA', 'Wood'], ['Sea Surface', 'Thermocline', 'Bottom Water', 'Surface Water', 'Subsurface'], ['NA', 'Wood', 'MXD', 'LakeSediment', 'Composite'], ['Sea Surface', 'Bottom Water', 'Surface Water', 'Surface', 'Subsurface'], ['Sea Surface', 'Wood', 'MXD', 'LakeSediment', 'Composite']], [['Sea Surface', 'Air Surface', 'Air Condensationlevel', 'NA', 'Wood'], ['Trsgi', 'ARS', 'EPS', 'SD', 'Core'], ['T', 'NA', 'Wood', 'MXD', 'Composite'], ['Thickness', 'Depth', 'Core', 'Uk37', 'TEX86'], ['T', 'Wood', 'MXD', 'LakeSediment', 'Composite']], [['Sea Surface', 'Air Surface', 'Air Condensationlevel', 'NA', 'Wood'], ['NA', 'Wood', 'MXD', 'LakeSediment', 'Composite'], ['Trsgi', 'ARS', 'EPS', 'SD', 'Core'], ['T', 'NA', 'Wood', 'MXD', 'Composite'], ['T', 'Wood', 'MXD', 'LakeSediment', 'Composite']], [['NA', 'Wood', 'MXD', 'LakeSediment', 'Composite'], ['Trsgi', 'ARS', 'EPS', 'SD', 'Core'], ['T', 'NA', 'Wood', 'MXD', 'Composite'], ['Thickness', 'Depth', 'Core', 'Uk37', 'TEX86'], ['T', 'Wood', 'MXD', 'LakeSediment', 'Composite']], [['T', 'NA', 'Wood', 'MXD', 'Composite'], ['NA', 'Wood', 'MXD', 'LakeSediment', 'Composite'], ['NA', 'Wood', 'MXD', 'LakeSediment', 'Composite'], ['NA', 'Wood', 'MXD', 'LakeSediment', 'Composite'], ['NA', 'Wood', 'MXD', 'LakeSediment', 'Composite']]]}\n"
     ]
    },
    {
     "data": {
      "application/vnd.jupyter.widget-view+json": {
       "model_id": "1dad58bde70a4f3fb1b961a24002ce69",
       "version_major": 2,
       "version_minor": 0
      },
      "text/plain": [
       "Dropdown(description='Archive Type', index=1, options=('Coral', 'GlacierIce', 'Hybrid', 'LakeSediment', 'Marin…"
      ]
     },
     "metadata": {},
     "output_type": "display_data"
    },
    {
     "name": "stdout",
     "output_type": "stream",
     "text": [
      "results {'0': ['Coral'], '1': ['D18O', 'Calcification', 'Sr/Ca', 'D13C', 'Composite'], '2': [['permil', 'per mil', 'per mil VPDB', 'per mil PDB', 'per mil SMOW'], ['g/cm/yr', 'mm/yr', 'cm/yr', 'Wood', 'MXD'], ['mmol/mol', 'Wood', 'MXD', 'LakeSediment', 'Composite'], ['permil', 'per mil', 'Wood', 'MXD', 'Composite'], ['percent', 'Wood', 'MXD', 'LakeSediment', 'Composite']]}\n",
      "results {'0': ['Speleothem'], '1': ['D18O', 'SE', 'Wood', 'MXD', 'Composite'], '2': [['permil', 'per mil', 'per mil VPDB', 'per mil PDB', 'per mil SMOW'], ['NA', 'degC', 'Wood', 'MXD', 'Composite'], ['Trsgi', 'ARS', 'EPS', 'SD', 'Core'], ['NA', 'Wood', 'MXD', 'LakeSediment', 'Composite'], ['percent', 'Wood', 'MXD', 'LakeSediment', 'Composite']]}\n"
     ]
    }
   ],
   "source": [
    "chain_length_dropdown.observe(chain_type_dropdown_eventhandler, names='value')\n",
    "\n",
    "display(chain_length_dropdown)"
   ]
  },
  {
   "cell_type": "code",
   "execution_count": 195,
   "id": "forced-elder",
   "metadata": {},
   "outputs": [],
   "source": [
    "if predict_for_chain_type.chain_length == 3:\n",
    "    first_line = output_proxy\n",
    "    second_line = output_units\n",
    "    VBox([first_line, second_line])\n",
    "else:\n",
    "    first_line = output_proxy\n",
    "    second_line = output_int_var\n",
    "    third_line = output_int_var_det\n",
    "    VBox([first_line, second_line, third_line])"
   ]
  }
 ],
 "metadata": {
  "kernelspec": {
   "display_name": "Python 3",
   "language": "python",
   "name": "python3"
  },
  "language_info": {
   "codemirror_mode": {
    "name": "ipython",
    "version": 3
   },
   "file_extension": ".py",
   "mimetype": "text/x-python",
   "name": "python",
   "nbconvert_exporter": "python",
   "pygments_lexer": "ipython3",
   "version": "3.8.3"
  }
 },
 "nbformat": 4,
 "nbformat_minor": 5
}
