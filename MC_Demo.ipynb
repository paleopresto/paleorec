{
 "cells": [
  {
   "cell_type": "code",
   "execution_count": 1,
   "id": "protecting-netscape",
   "metadata": {},
   "outputs": [],
   "source": [
    "from MCpredict import *\n",
    "import pandas as pd\n",
    "import ipywidgets as widgets\n",
    "from collections import defaultdict\n",
    "import collections\n",
    "from IPython.display import display\n",
    "from IPython.display import clear_output\n",
    "from ipywidgets import HBox, VBox"
   ]
  },
  {
   "cell_type": "markdown",
   "id": "purple-sharing",
   "metadata": {},
   "source": [
    "************************************ EXAMPLE ************************************************"
   ]
  },
  {
   "cell_type": "code",
   "execution_count": 2,
   "id": "desirable-bunny",
   "metadata": {},
   "outputs": [],
   "source": [
    "pred_3 = MCpredict(3)\n",
    "pred_4 = MCpredict(4)"
   ]
  },
  {
   "cell_type": "code",
   "execution_count": 3,
   "id": "geographic-helena",
   "metadata": {
    "scrolled": true
   },
   "outputs": [
    {
     "name": "stdout",
     "output_type": "stream",
     "text": [
      "{'0': ['Wood'], '1': ['Trsgi'], '2': ['NA', 'permil PDB', 'g/cm/yr', 'degC', 'cm/yr']}\n",
      "{'0': ['MarineSediment'], '1': ['Sr/Ca'], '2': ['T', 'NA', 'Temperature And Salinity', 'Salinity', 'D18Osw'], '3': [['Sea Surface', 'Air Surface', 'Air Condensationlevel', 'NA', 'Surface Water'], ['NA', 'Surface Water', 'Bottom Water', 'Air Surface', 'Air Condensationlevel'], ['Sea Surface', 'Surface Water', 'Bottom Water', 'Air Surface', 'Air Condensationlevel'], ['Surface Water', 'Sea Surface', 'Bottom Water', 'Air Surface', 'Air Condensationlevel'], ['Sea Surface', 'Bottom Water', 'Surface Water', 'Surface', 'Subsurface']]}\n"
     ]
    }
   ],
   "source": [
    "print(pred_3.predict_seq('Wood,Trsgi'))\n",
    "out_list = pred_4.predict_seq('MarineSediment,Sr/Ca')\n",
    "print(out_list)"
   ]
  },
  {
   "cell_type": "markdown",
   "id": "informational-paris",
   "metadata": {},
   "source": [
    "## DEMO ##"
   ]
  },
  {
   "cell_type": "code",
   "execution_count": 43,
   "id": "tutorial-subject",
   "metadata": {},
   "outputs": [
    {
     "ename": "NameError",
     "evalue": "name 'predict_for_chain_type' is not defined",
     "output_type": "error",
     "traceback": [
      "\u001b[1;31m---------------------------------------------------------------------------\u001b[0m",
      "\u001b[1;31mNameError\u001b[0m                                 Traceback (most recent call last)",
      "\u001b[1;32m<ipython-input-43-82807377e911>\u001b[0m in \u001b[0;36m<module>\u001b[1;34m\u001b[0m\n\u001b[1;32m----> 1\u001b[1;33m \u001b[0marchive_type_dropdown\u001b[0m \u001b[1;33m=\u001b[0m \u001b[0mwidgets\u001b[0m\u001b[1;33m.\u001b[0m\u001b[0mDropdown\u001b[0m\u001b[1;33m(\u001b[0m\u001b[0moptions\u001b[0m \u001b[1;33m=\u001b[0m \u001b[0msorted\u001b[0m\u001b[1;33m(\u001b[0m\u001b[0mlist\u001b[0m\u001b[1;33m(\u001b[0m\u001b[0mpredict_for_chain_type\u001b[0m\u001b[1;33m.\u001b[0m\u001b[0mnames_set\u001b[0m\u001b[1;33m[\u001b[0m\u001b[1;36m0\u001b[0m\u001b[1;33m]\u001b[0m\u001b[1;33m)\u001b[0m\u001b[1;33m)\u001b[0m\u001b[1;33m,\u001b[0m \u001b[0mdescription\u001b[0m\u001b[1;33m=\u001b[0m\u001b[1;34m'Archive Type'\u001b[0m\u001b[1;33m)\u001b[0m\u001b[1;33m\u001b[0m\u001b[1;33m\u001b[0m\u001b[0m\n\u001b[0m",
      "\u001b[1;31mNameError\u001b[0m: name 'predict_for_chain_type' is not defined"
     ]
    }
   ],
   "source": [
    "archive_type_dropdown = widgets.Dropdown(options = sorted(list(predict_for_chain_type.names_set[0])), description='Archive Type')"
   ]
  },
  {
   "cell_type": "code",
   "execution_count": 44,
   "id": "collective-pitch",
   "metadata": {},
   "outputs": [],
   "source": [
    "output_proxy = widgets.Output()\n",
    "output_units = widgets.Output()\n",
    "output_int_var = widgets.Output()\n",
    "output_int_var_det = widgets.Output()"
   ]
  },
  {
   "cell_type": "code",
   "execution_count": 45,
   "id": "unique-timer",
   "metadata": {},
   "outputs": [],
   "source": [
    "style = {'description_width': 'initial', 'select_width' : 'initial'}\n",
    "\n",
    "# proxy_obs_type_dropdown = widgets.Combobox(options = [], description='Proxy Observation Type', style=style, ensure_option=True,\n",
    "#     disabled=False)\n",
    "# units_dropdown = widgets.Combobox(options = [], description='Units', style=style, ensure_option=True,\n",
    "#     disabled=False)\n",
    "# int_var_dropdown = widgets.Combobox(options = [], description='Interpretation Variable', style=style, ensure_option=True,\n",
    "#     disabled=False)\n",
    "# int_var_det_dropdown = widgets.Combobox(options = [], description='Interpretation Variable Detail', style=style, ensure_option=True,\n",
    "#     disabled=False)\n",
    "\n",
    "proxy_obs_type_dropdown = widgets.Dropdown(options = [], description='Proxy Observation Type', style=style)\n",
    "units_dropdown = widgets.Dropdown(options = [], description='Units', style=style)\n",
    "int_var_dropdown = widgets.Dropdown(options = [], description='Interpretation Variable', style=style)\n",
    "int_var_det_dropdown = widgets.Dropdown(options = [], description='Interpretation Variable Detail', style=style, ensure_option=True,\n",
    "    disabled=False)"
   ]
  },
  {
   "cell_type": "code",
   "execution_count": 46,
   "id": "subjective-apollo",
   "metadata": {},
   "outputs": [],
   "source": [
    "layout_hidden  = widgets.Layout(visibility = 'hidden')\n",
    "layout_visible = widgets.Layout(visibility = 'visible')"
   ]
  },
  {
   "cell_type": "code",
   "execution_count": 47,
   "id": "persistent-investor",
   "metadata": {},
   "outputs": [],
   "source": [
    "def visible_txt(b):\n",
    "    combobox.layout = layout_visible\n",
    "\n",
    "def hidden_txt(b):\n",
    "    combobox.layout = layout_hidden"
   ]
  },
  {
   "cell_type": "code",
   "execution_count": 202,
   "id": "naughty-burns",
   "metadata": {},
   "outputs": [],
   "source": [
    "def displayChildren(options_list, dropdown_obj, dropdown_eventhandler, to_observe):\n",
    "#     print('inside display children')\n",
    "#     print(options_list)\n",
    "    dropdown_obj.options = options_list\n",
    "    if to_observe:\n",
    "        dropdown_obj.observe(dropdown_eventhandler, names='value')"
   ]
  },
  {
   "cell_type": "code",
   "execution_count": 203,
   "id": "artistic-rebel",
   "metadata": {},
   "outputs": [],
   "source": [
    "def int_var_dropdown_eventhandler(change):\n",
    "    global input_sent\n",
    "    \n",
    "    output_int_var_det.clear_output()\n",
    "#     int_var_det_dropdown.layout = layout_visible\n",
    "    \n",
    "    int_var_value = change.new\n",
    "    input_sent += ',' + int_var_value\n",
    "    results = predict_for_chain_type.predict_seq(input_sent)\n",
    "\n",
    "    displayChildren(results['3'], int_var_det_dropdown, None, False)\n",
    "    with output_int_var_det:\n",
    "        display(int_var_det_dropdown)"
   ]
  },
  {
   "cell_type": "code",
   "execution_count": 204,
   "id": "mediterranean-intent",
   "metadata": {},
   "outputs": [],
   "source": [
    "def proxy_obs_type_dropdown_eventhandler(change):\n",
    "    global input_sent\n",
    "    \n",
    "    output_units.clear_output()\n",
    "    output_int_var.clear_output()\n",
    "    output_int_var_det.clear_output()\n",
    "    \n",
    "    proxy_obs_type_value = change.new\n",
    "    input_sent += ',' + proxy_obs_type_value\n",
    "    results = predict_for_chain_type.predict_seq(input_sent)\n",
    "    \n",
    "    if predict_for_chain_type.chain_length == 3:\n",
    "#         units_dropdown.layout = layout_visible\n",
    "        displayChildren(results['2'], units_dropdown, None, False)\n",
    "        with output_units:\n",
    "            display(units_dropdown)\n",
    "    else:\n",
    "#         int_var_dropdown.layout = layout_visible\n",
    "        displayChildren(results['2'], int_var_dropdown, int_var_dropdown_eventhandler, True)\n",
    "        with output_int_var:\n",
    "            display(int_var_dropdown)"
   ]
  },
  {
   "cell_type": "code",
   "execution_count": 205,
   "id": "logical-straight",
   "metadata": {},
   "outputs": [],
   "source": [
    "def archive_type_dropdown_eventhandler(change):\n",
    "    global input_sent\n",
    "    \n",
    "    # value from archive type dropdown\n",
    "    archive_type_value = change.new\n",
    "    input_sent = archive_type_value\n",
    "    \n",
    "    # clear existing values from all children drop downs\n",
    "    output_proxy.clear_output()\n",
    "    \n",
    "    output_units.clear_output()\n",
    "#     units_dropdown.layout = layout_hidden\n",
    "    \n",
    "    output_int_var.clear_output()\n",
    "    output_int_var_det.clear_output()\n",
    "#     int_var_dropdown.layout = layout_hidden\n",
    "#     int_var_det_dropdown.layout = layout_hidden\n",
    "    \n",
    "    # get prediction results from MC model\n",
    "    results = predict_for_chain_type.predict_seq(input_sent)\n",
    "    #print('results', results)\n",
    "    displayChildren(results['1'], proxy_obs_type_dropdown, proxy_obs_type_dropdown_eventhandler, True)\n",
    "    \n",
    "    with output_proxy:\n",
    "        display(proxy_obs_type_dropdown)\n",
    "    \n",
    "# archive_type_dropdown.observe(archive_type_dropdown_eventhandler, names='value')\n",
    "\n",
    "# display(archive_type_dropdown)"
   ]
  },
  {
   "cell_type": "code",
   "execution_count": 206,
   "id": "beautiful-edinburgh",
   "metadata": {},
   "outputs": [],
   "source": [
    "def chain_type_dropdown_eventhandler(change):\n",
    "    global input_sent, predict_for_chain_type\n",
    "    \n",
    "    predict_for_chain_type = MCpredict(change.new)\n",
    "    \n",
    "    input_sent = ''\n",
    "    \n",
    "    output_proxy.clear_output()\n",
    "    \n",
    "    output_units.clear_output()\n",
    "#     units_dropdown.layout = layout_hidden\n",
    "    \n",
    "    output_int_var.clear_output()\n",
    "    output_int_var_det.clear_output()\n",
    "#     int_var_dropdown.layout = layout_hidden\n",
    "#     int_var_det_dropdown.layout = layout_hidden\n",
    "    \n",
    "    archive_type_dropdown.observe(archive_type_dropdown_eventhandler, names='value')\n",
    "    display(archive_type_dropdown)"
   ]
  },
  {
   "cell_type": "code",
   "execution_count": 207,
   "id": "viral-fight",
   "metadata": {},
   "outputs": [
    {
     "data": {
      "application/vnd.jupyter.widget-view+json": {
       "model_id": "4c09d6a0cfa8440095ec6e362f84a837",
       "version_major": 2,
       "version_minor": 0
      },
      "text/plain": [
       "Dropdown(description='Chain Type', options=(3, 4), value=3)"
      ]
     },
     "metadata": {},
     "output_type": "display_data"
    },
    {
     "data": {
      "application/vnd.jupyter.widget-view+json": {
       "model_id": "1dad58bde70a4f3fb1b961a24002ce69",
       "version_major": 2,
       "version_minor": 0
      },
      "text/plain": [
       "Dropdown(description='Archive Type', options=('Coral', 'GlacierIce', 'Hybrid', 'LakeSediment', 'MarineSediment…"
      ]
     },
     "metadata": {},
     "output_type": "display_data"
    },
    {
     "name": "stdout",
     "output_type": "stream",
     "text": [
      "results {'0': ['GlacierIce'], '1': ['D18O', 'Dd', 'Thickness', 'Depth', 'Wood'], '2': [['T', 'Temperature', 'NA', 'D18Osw', 'Temperature And Salinity'], ['T', 'Wood', 'MXD', 'LakeSediment', 'Composite'], ['T', 'NA', 'Wood', 'MXD', 'Composite'], ['NA', 'Wood', 'MXD', 'LakeSediment', 'Composite'], ['Trsgi', 'ARS', 'EPS', 'SD', 'Core']], '3': [[['Sea Surface', 'Air Surface', 'Air Condensationlevel', 'NA', 'Wood'], ['Sea Surface', 'Thermocline', 'Bottom Water', 'Surface Water', 'Subsurface'], ['NA', 'Wood', 'MXD', 'LakeSediment', 'Composite'], ['Sea Surface', 'Bottom Water', 'Surface Water', 'Surface', 'Subsurface'], ['Sea Surface', 'Wood', 'MXD', 'LakeSediment', 'Composite']], [['Sea Surface', 'Air Surface', 'Air Condensationlevel', 'NA', 'Wood'], ['Trsgi', 'ARS', 'EPS', 'SD', 'Core'], ['T', 'NA', 'Wood', 'MXD', 'Composite'], ['Thickness', 'Depth', 'Core', 'Uk37', 'TEX86'], ['T', 'Wood', 'MXD', 'LakeSediment', 'Composite']], [['Sea Surface', 'Air Surface', 'Air Condensationlevel', 'NA', 'Wood'], ['NA', 'Wood', 'MXD', 'LakeSediment', 'Composite'], ['Trsgi', 'ARS', 'EPS', 'SD', 'Core'], ['T', 'NA', 'Wood', 'MXD', 'Composite'], ['T', 'Wood', 'MXD', 'LakeSediment', 'Composite']], [['NA', 'Wood', 'MXD', 'LakeSediment', 'Composite'], ['Trsgi', 'ARS', 'EPS', 'SD', 'Core'], ['T', 'NA', 'Wood', 'MXD', 'Composite'], ['Thickness', 'Depth', 'Core', 'Uk37', 'TEX86'], ['T', 'Wood', 'MXD', 'LakeSediment', 'Composite']], [['T', 'NA', 'Wood', 'MXD', 'Composite'], ['NA', 'Wood', 'MXD', 'LakeSediment', 'Composite'], ['NA', 'Wood', 'MXD', 'LakeSediment', 'Composite'], ['NA', 'Wood', 'MXD', 'LakeSediment', 'Composite'], ['NA', 'Wood', 'MXD', 'LakeSediment', 'Composite']]]}\n"
     ]
    },
    {
     "data": {
      "application/vnd.jupyter.widget-view+json": {
       "model_id": "1dad58bde70a4f3fb1b961a24002ce69",
       "version_major": 2,
       "version_minor": 0
      },
      "text/plain": [
       "Dropdown(description='Archive Type', index=1, options=('Coral', 'GlacierIce', 'Hybrid', 'LakeSediment', 'Marin…"
      ]
     },
     "metadata": {},
     "output_type": "display_data"
    },
    {
     "name": "stdout",
     "output_type": "stream",
     "text": [
      "results {'0': ['Coral'], '1': ['D18O', 'Calcification', 'Sr/Ca', 'D13C', 'Composite'], '2': [['permil', 'per mil', 'per mil VPDB', 'per mil PDB', 'per mil SMOW'], ['g/cm/yr', 'mm/yr', 'cm/yr', 'Wood', 'MXD'], ['mmol/mol', 'Wood', 'MXD', 'LakeSediment', 'Composite'], ['permil', 'per mil', 'Wood', 'MXD', 'Composite'], ['percent', 'Wood', 'MXD', 'LakeSediment', 'Composite']]}\n",
      "results {'0': ['Speleothem'], '1': ['D18O', 'SE', 'Wood', 'MXD', 'Composite'], '2': [['permil', 'per mil', 'per mil VPDB', 'per mil PDB', 'per mil SMOW'], ['NA', 'degC', 'Wood', 'MXD', 'Composite'], ['Trsgi', 'ARS', 'EPS', 'SD', 'Core'], ['NA', 'Wood', 'MXD', 'LakeSediment', 'Composite'], ['percent', 'Wood', 'MXD', 'LakeSediment', 'Composite']]}\n",
      "results {'0': ['Coral'], '1': ['D18O', 'Calcification', 'Sr/Ca', 'D13C', 'Composite'], '2': [['permil', 'per mil', 'per mil VPDB', 'per mil PDB', 'per mil SMOW'], ['g/cm/yr', 'mm/yr', 'cm/yr', 'Wood', 'MXD'], ['mmol/mol', 'Wood', 'MXD', 'LakeSediment', 'Composite'], ['permil', 'per mil', 'Wood', 'MXD', 'Composite'], ['percent', 'Wood', 'MXD', 'LakeSediment', 'Composite']]}\n"
     ]
    },
    {
     "data": {
      "application/vnd.jupyter.widget-view+json": {
       "model_id": "1dad58bde70a4f3fb1b961a24002ce69",
       "version_major": 2,
       "version_minor": 0
      },
      "text/plain": [
       "Dropdown(description='Archive Type', options=('Coral', 'GlacierIce', 'Hybrid', 'LakeSediment', 'MarineSediment…"
      ]
     },
     "metadata": {},
     "output_type": "display_data"
    }
   ],
   "source": [
    "chain_length_dropdown.observe(chain_type_dropdown_eventhandler, names='value')\n",
    "\n",
    "display(chain_length_dropdown)"
   ]
  },
  {
   "cell_type": "code",
   "execution_count": 195,
   "id": "solid-remainder",
   "metadata": {},
   "outputs": [],
   "source": [
    "if predict_for_chain_type.chain_length == 3:\n",
    "    first_line = output_proxy\n",
    "    second_line = output_units\n",
    "    VBox([first_line, second_line])\n",
    "else:\n",
    "    first_line = output_proxy\n",
    "    second_line = output_int_var\n",
    "    third_line = output_int_var_det\n",
    "    VBox([first_line, second_line, third_line])"
   ]
  },
  {
   "cell_type": "markdown",
   "id": "hollow-roulette",
   "metadata": {},
   "source": [
    "### New implementation of DropDown with text box"
   ]
  },
  {
   "cell_type": "code",
   "execution_count": 38,
   "id": "medical-virginia",
   "metadata": {},
   "outputs": [],
   "source": [
    "predict_chain3 = MCpredict(3)\n",
    "predict_chain4 = MCpredict(4)\n",
    "input_sent_list = []"
   ]
  },
  {
   "cell_type": "code",
   "execution_count": 39,
   "id": "following-queen",
   "metadata": {},
   "outputs": [],
   "source": [
    "style = {'description_width': 'initial', 'select_width' : 'initial'}"
   ]
  },
  {
   "cell_type": "code",
   "execution_count": 40,
   "id": "stainless-ivory",
   "metadata": {},
   "outputs": [],
   "source": [
    "def display_archive_types(archive_types_list):\n",
    "    archive_types_list.sort()\n",
    "    archive_types_list.insert(0,'Select')\n",
    "    return archive_types_list"
   ]
  },
  {
   "cell_type": "code",
   "execution_count": 41,
   "id": "sacred-madrid",
   "metadata": {},
   "outputs": [
    {
     "data": {
      "application/vnd.jupyter.widget-view+json": {
       "model_id": "590430265e5d43dd8b1a10608c75aada",
       "version_major": 2,
       "version_minor": 0
      },
      "text/plain": [
       "Dropdown(description='Archive Type', options=('Select', 'Coral', 'GlacierIce', 'Hybrid', 'LakeSediment', 'Mari…"
      ]
     },
     "metadata": {},
     "output_type": "display_data"
    }
   ],
   "source": [
    "archive_type_dropdown = widgets.Dropdown(options = display_archive_types(list(predict_chain3.names_set[0])), description='Archive Type')\n",
    "output_proxy = widgets.Output()\n",
    "output_units = widgets.Output()\n",
    "output_int_var = widgets.Output()\n",
    "output_int_var_det = widgets.Output()\n",
    "\n",
    "proxy_dropdown = widgets.Combobox(placeholder='Select',options = [], description='proxy observation type'\n",
    "        , style=style, ensure_option=True, disabled=False)\n",
    "units_dropdown = widgets.Combobox(placeholder='Select',options =[], description='units(Proxy Observation Type)'\n",
    "        , style=style, ensure_option=True, disabled=False)\n",
    "int_var_dropdown = widgets.Combobox(placeholder='Select',options = [], description='interpretation/variable'\n",
    "        , style=style, ensure_option=True, disabled=False)\n",
    "int_var_det_dropdown = widgets.Combobox(placeholder='Select',options = [], description='interpretation/variableDetail'\n",
    "        , style=style, ensure_option=True, disabled=False)\n",
    "\n",
    "\n",
    "def int_var_dropdown_eventhandler(change):\n",
    "    global input_sent_list\n",
    "    output_int_var_det.clear_output()\n",
    "    int_var_type_value = change.new\n",
    "    \n",
    "#     if int_var_type_value == 'Select':\n",
    "#         print('Please select a value')\n",
    "#     else:\n",
    "    input_sent_list = input_sent_list[:2]\n",
    "    input_sent_list.append(int_var_type_value)\n",
    "    input_sent = (',').join(input_sent_list)\n",
    "    res = predict_chain4.predict_seq(input_sent)\n",
    "\n",
    "    displayChildren(res['3'], int_var_det_dropdown, None, False)\n",
    "\n",
    "    with output_int_var_det:\n",
    "        clear_output()\n",
    "        display(int_var_det_dropdown)\n",
    "\n",
    "def proxy_dropdown_eventhandler(change):\n",
    "    global input_sent_list\n",
    "    \n",
    "    output_units.clear_output()\n",
    "    output_int_var.clear_output()\n",
    "    output_int_var_det.clear_output()\n",
    "    \n",
    "    proxy_obs_type_value = change.new\n",
    "    \n",
    "    input_sent_list = input_sent_list[:1]\n",
    "    input_sent_list.append(proxy_obs_type_value)\n",
    "    input_sent = (',').join(input_sent_list)\n",
    "    \n",
    "    res_chain3 = predict_chain3.predict_seq(input_sent)\n",
    "    res_chain4 = predict_chain4.predict_seq(input_sent)\n",
    "    \n",
    "    displayChildren(res_chain3['2'], units_dropdown, None, False, is_units=True)\n",
    "    displayChildren(res_chain4['2'], int_var_dropdown, int_var_dropdown_eventhandler, True)\n",
    "    \n",
    "    with output_units:\n",
    "#         clear_output()\n",
    "        display(units_dropdown)\n",
    "    with output_int_var:\n",
    "#         clear_output()\n",
    "        display(int_var_dropdown)\n",
    "#     with output_int_var_det:\n",
    "#         clear_output()\n",
    "    \n",
    "def displayChildren(options_list, dropdown_obj, dropdown_eventhandler, to_observe, is_units = False):\n",
    "    \n",
    "    if is_units:\n",
    "        if options_list and options_list[0] == 'NA':\n",
    "            options_list = ['Unitless']\n",
    "        else:\n",
    "            options_list = [x if x != 'NA' else 'Unitless' for x in options_list]   \n",
    "    else:\n",
    "        if options_list and options_list[0] == 'NA':\n",
    "            options_list = ['NA']\n",
    "#     options_list.insert(0, 'Select')\n",
    "    dropdown_obj.options = options_list\n",
    "    if to_observe:\n",
    "        dropdown_obj.observe(dropdown_eventhandler, names='value')\n",
    "    \n",
    "def archive_type_dropdown_eventhandler(change):\n",
    "    global input_sent_list\n",
    "    archive_type_value = change.new\n",
    "    input_sent_list = []\n",
    "    input_sent_list.append(archive_type_value)\n",
    "    \n",
    "    output_proxy.clear_output()\n",
    "    output_units.clear_output()\n",
    "    output_int_var.clear_output()\n",
    "    output_int_var_det.clear_output()\n",
    "    \n",
    "#     with output_proxy:\n",
    "#         clear_output()\n",
    "    \n",
    "    results = predict_chain3.predict_seq(archive_type_value)\n",
    "    # print('results - from archive', results)\n",
    "    displayChildren(results['1'], proxy_dropdown, proxy_dropdown_eventhandler, True)\n",
    "    \n",
    "    with output_proxy:\n",
    "        display(proxy_dropdown)\n",
    "    \n",
    "archive_type_dropdown.observe(archive_type_dropdown_eventhandler, names='value')\n",
    "\n",
    "display(archive_type_dropdown)"
   ]
  },
  {
   "cell_type": "code",
   "execution_count": 42,
   "id": "forward-somerset",
   "metadata": {},
   "outputs": [
    {
     "data": {
      "application/vnd.jupyter.widget-view+json": {
       "model_id": "ceff2dc4931b49d588936a0d74a6c076",
       "version_major": 2,
       "version_minor": 0
      },
      "text/plain": [
       "VBox(children=(HBox(children=(Output(),)), HBox(children=(Output(),)), HBox(children=(Output(), Output()))))"
      ]
     },
     "metadata": {},
     "output_type": "display_data"
    }
   ],
   "source": [
    "first_line = HBox([output_proxy])\n",
    "second_line = HBox([output_units])\n",
    "third_line = HBox([output_int_var, output_int_var_det])\n",
    "VBox([first_line, second_line, third_line])"
   ]
  },
  {
   "cell_type": "markdown",
   "id": "opposite-pointer",
   "metadata": {},
   "source": [
    "### New implementation with dropdown and text box"
   ]
  },
  {
   "cell_type": "code",
   "execution_count": 43,
   "id": "outer-addiction",
   "metadata": {},
   "outputs": [],
   "source": [
    "predict_chain3 = MCpredict(3)\n",
    "predict_chain4 = MCpredict(4)\n",
    "input_sent_list = []"
   ]
  },
  {
   "cell_type": "code",
   "execution_count": 44,
   "id": "emotional-valley",
   "metadata": {},
   "outputs": [],
   "source": [
    "style = {'description_width': 'initial', 'select_width' : 'initial'}"
   ]
  },
  {
   "cell_type": "code",
   "execution_count": 45,
   "id": "wired-dynamics",
   "metadata": {},
   "outputs": [],
   "source": [
    "def display_archive_types(archive_types_list):\n",
    "    archive_types_list.sort()\n",
    "    archive_types_list.insert(0,'Select')\n",
    "    return archive_types_list"
   ]
  },
  {
   "cell_type": "code",
   "execution_count": 46,
   "id": "clinical-smell",
   "metadata": {},
   "outputs": [
    {
     "data": {
      "application/vnd.jupyter.widget-view+json": {
       "model_id": "5966255f8b1545edb1bece7417e7ee6c",
       "version_major": 2,
       "version_minor": 0
      },
      "text/plain": [
       "Dropdown(description='Archive Type', options=('Select', 'Coral', 'GlacierIce', 'Hybrid', 'LakeSediment', 'Mari…"
      ]
     },
     "metadata": {},
     "output_type": "display_data"
    }
   ],
   "source": [
    "archive_type_dropdown = widgets.Dropdown(options = display_archive_types(list(predict_chain3.names_set[0])), description='Archive Type')\n",
    "output_proxy = widgets.Output()\n",
    "output_units = widgets.Output()\n",
    "output_int_var = widgets.Output()\n",
    "output_int_var_det = widgets.Output()\n",
    "\n",
    "out_text_proxy = widgets.Output()\n",
    "out_text_units = widgets.Output()\n",
    "out_text_int_var = widgets.Output()\n",
    "out_text_int_var_det = widgets.Output()\n",
    "\n",
    "proxy_dropdown = widgets.Dropdown(placeholder='Select',options = [], description='proxy observation type'\n",
    "        , style=style, ensure_option=True, disabled=False)\n",
    "units_dropdown = widgets.Dropdown(placeholder='Select',options =[], description='units(Proxy Observation Type)'\n",
    "        , style=style, ensure_option=True, disabled=False)\n",
    "int_var_dropdown = widgets.Dropdown(placeholder='Select',options = [], description='interpretation/variable'\n",
    "        , style=style, ensure_option=True, disabled=False)\n",
    "int_var_det_dropdown = widgets.Dropdown(placeholder='Select',options = [], description='interpretation/variableDetail'\n",
    "        , style=style, ensure_option=True, disabled=False)\n",
    "proxy_text = widgets.Text(placeholder='Other value', description='other proxy value', disabled=False)\n",
    "units_text = widgets.Text(placeholder='Other value', description='other units value', disabled=False)\n",
    "int_var_text = widgets.Text(placeholder='Other value', description='other interpretation/variable value', disabled=False)\n",
    "int_var_det_text = widgets.Text(placeholder='Other value', description='other interpretation/variableDetail value', disabled=False)\n",
    "\n",
    "\n",
    "def int_var_dropdown_eventhandler(change):\n",
    "    global input_sent_list\n",
    "    output_int_var_det.clear_output()\n",
    "    int_var_type_value = change.new\n",
    "    \n",
    "    if int_var_type_value == 'Select':\n",
    "        print('Please select a value')\n",
    "    else:\n",
    "        input_sent_list = input_sent_list[:2]\n",
    "        input_sent_list.append(int_var_type_value)\n",
    "        input_sent = (',').join(input_sent_list)\n",
    "        res = predict_chain4.predict_seq(input_sent)\n",
    "\n",
    "        displayChildren(res['3'], int_var_det_dropdown, None, False)\n",
    "\n",
    "    with output_int_var_det:\n",
    "        clear_output()\n",
    "        display(int_var_det_dropdown)\n",
    "\n",
    "def proxy_dropdown_eventhandler(change):\n",
    "    global input_sent_list\n",
    "    \n",
    "    output_units.clear_output()\n",
    "    output_int_var.clear_output()\n",
    "    output_int_var_det.clear_output()\n",
    "    \n",
    "    proxy_obs_type_value = change.new\n",
    "    \n",
    "    input_sent_list = input_sent_list[:1]\n",
    "    input_sent_list.append(proxy_obs_type_value)\n",
    "    input_sent = (',').join(input_sent_list)\n",
    "    \n",
    "    res_chain3 = predict_chain3.predict_seq(input_sent)\n",
    "    res_chain4 = predict_chain4.predict_seq(input_sent)\n",
    "    \n",
    "    displayChildren(res_chain3['2'], units_dropdown, None, False, is_units=True)\n",
    "    displayChildren(res_chain4['2'], int_var_dropdown, int_var_dropdown_eventhandler, True)\n",
    "    \n",
    "    with output_units:\n",
    "        clear_output()\n",
    "        display(units_dropdown)\n",
    "    with output_int_var:\n",
    "        clear_output()\n",
    "        display(int_var_dropdown)\n",
    "    with output_int_var_det:\n",
    "        clear_output()\n",
    "    \n",
    "def displayChildren(options_list, dropdown_obj, dropdown_eventhandler, to_observe, is_units = False):\n",
    "    \n",
    "    if is_units:\n",
    "        if options_list and options_list[0] == 'NA':\n",
    "            options_list = ['Unitless']\n",
    "        else:\n",
    "            options_list = [x if x != 'NA' else 'Unitless' for x in options_list]   \n",
    "    else:\n",
    "        if options_list and options_list[0] == 'NA':\n",
    "            options_list = ['NA']\n",
    "    options_list.insert(0, 'Select')\n",
    "    dropdown_obj.options = options_list\n",
    "    if to_observe:\n",
    "        dropdown_obj.observe(dropdown_eventhandler, names='value')\n",
    "    \n",
    "def archive_type_dropdown_eventhandler(change):\n",
    "    global input_sent_list\n",
    "    archive_type_value = change.new\n",
    "    input_sent_list = []\n",
    "    input_sent_list.append(archive_type_value)\n",
    "    \n",
    "    output_proxy.clear_output()\n",
    "    output_units.clear_output()\n",
    "    output_int_var.clear_output()\n",
    "    output_int_var_det.clear_output()\n",
    "    \n",
    "#     out_text_proxy.clear_output()\n",
    "#     out_text_units.clear_output()\n",
    "#     out_text_int_var.clear_output()\n",
    "#     out_text_int_var_det.clear_output()\n",
    "    \n",
    "    with output_proxy:\n",
    "        clear_output()\n",
    "    \n",
    "    results = predict_chain3.predict_seq(archive_type_value)\n",
    "    # print('results - from archive', results)\n",
    "    displayChildren(results['1'], proxy_dropdown, proxy_dropdown_eventhandler, True)\n",
    "    \n",
    "    with output_proxy:\n",
    "        display(proxy_dropdown)\n",
    "    \n",
    "archive_type_dropdown.observe(archive_type_dropdown_eventhandler, names='value')\n",
    "\n",
    "display(archive_type_dropdown)"
   ]
  },
  {
   "cell_type": "code",
   "execution_count": 47,
   "id": "criminal-house",
   "metadata": {},
   "outputs": [
    {
     "data": {
      "application/vnd.jupyter.widget-view+json": {
       "model_id": "b6a052241d854ff2bb909905dacf9b86",
       "version_major": 2,
       "version_minor": 0
      },
      "text/plain": [
       "VBox(children=(HBox(children=(Output(),)), HBox(children=(Output(),)), HBox(children=(Output(), Output()))))"
      ]
     },
     "metadata": {},
     "output_type": "display_data"
    }
   ],
   "source": [
    "first_line = HBox([output_proxy])\n",
    "second_line = HBox([output_units])\n",
    "third_line = HBox([output_int_var, output_int_var_det])\n",
    "VBox([first_line, second_line, third_line])"
   ]
  },
  {
   "cell_type": "code",
   "execution_count": null,
   "id": "alike-opening",
   "metadata": {},
   "outputs": [],
   "source": []
  }
 ],
 "metadata": {
  "kernelspec": {
   "display_name": "Python 3",
   "language": "python",
   "name": "python3"
  },
  "language_info": {
   "codemirror_mode": {
    "name": "ipython",
    "version": 3
   },
   "file_extension": ".py",
   "mimetype": "text/x-python",
   "name": "python",
   "nbconvert_exporter": "python",
   "pygments_lexer": "ipython3",
   "version": "3.8.3"
  }
 },
 "nbformat": 4,
 "nbformat_minor": 5
}
