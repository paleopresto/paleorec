{
 "cells": [
  {
   "cell_type": "code",
   "execution_count": 1,
   "id": "printable-charity",
   "metadata": {},
   "outputs": [],
   "source": [
    "import sys\n",
    "from sys import platform as _platform\n",
    "\n",
    "if _platform == \"win32\":\n",
    "    sys.path.insert(1, '..\\prediction\\markovchain\\\\')\n",
    "else:\n",
    "    sys.path.insert(1, '../prediction/markovchain/')\n",
    "\n",
    "\n",
    "from MCpredict import MCpredict\n",
    "\n",
    "import pandas as pd\n",
    "import ipywidgets as widgets\n",
    "from collections import defaultdict\n",
    "import collections\n",
    "from IPython.display import display\n",
    "from IPython.display import clear_output\n",
    "from ipywidgets import HBox, VBox"
   ]
  },
  {
   "cell_type": "code",
   "execution_count": 2,
   "id": "incorporate-thing",
   "metadata": {},
   "outputs": [],
   "source": [
    "if _platform == \"win32\":\n",
    "    predict_chain3 = MCpredict(3,5, '..\\data\\model_mc\\\\')\n",
    "    predict_chain4 = MCpredict(4,5, '..\\data\\model_mc\\\\')\n",
    "else:\n",
    "    predict_chain3 = MCpredict(3,5, '../data/model_mc/')\n",
    "    predict_chain4 = MCpredict(4,5, '../data/model_mc/')\n",
    "input_sent_list = []"
   ]
  },
  {
   "cell_type": "code",
   "execution_count": 3,
   "id": "invalid-union",
   "metadata": {},
   "outputs": [],
   "source": [
    "style = {'description_width': 'initial', 'select_width' : 'initial'}\n",
    "variableType = None"
   ]
  },
  {
   "cell_type": "code",
   "execution_count": 4,
   "id": "individual-exchange",
   "metadata": {},
   "outputs": [],
   "source": [
    "def display_archive_types(archive_types_list):\n",
    "    archive_types_list.sort()\n",
    "    archive_types_list.insert(0,'Select')\n",
    "    return archive_types_list"
   ]
  },
  {
   "cell_type": "code",
   "execution_count": 5,
   "id": "exterior-vector",
   "metadata": {},
   "outputs": [],
   "source": [
    "archive_type_dropdown = widgets.Dropdown(options = display_archive_types(list(predict_chain3.names_set[0])), description='Archive Type')\n",
    "\n",
    "output_varType = widgets.Output()\n",
    "output_proxy = widgets.Output()\n",
    "output_units = widgets.Output()\n",
    "output_int_var = widgets.Output()\n",
    "output_int_var_det = widgets.Output()\n",
    "output_inf_var = widgets.Output()\n",
    "output_inf_var_units = widgets.Output()\n",
    "\n",
    "var_type_dropdown = widgets.Dropdown(placeholder='Select',options = ['select','measured', 'inferred'], description='variable type'\n",
    "        , style=style, ensure_option=True, disabled=False)\n",
    "proxy_dropdown = widgets.Combobox(placeholder='Select',options = [], description='proxy observation type'\n",
    "        , style=style, ensure_option=True, disabled=False)\n",
    "units_dropdown = widgets.Combobox(placeholder='Select',options =[], description='units(Proxy Observation Type)'\n",
    "        , style=style, ensure_option=True, disabled=False)\n",
    "int_var_dropdown = widgets.Combobox(placeholder='Select',options = [], description='interpretation/variable'\n",
    "        , style=style, ensure_option=True, disabled=False)\n",
    "int_var_det_dropdown = widgets.Combobox(placeholder='Select',options = [], description='interpretation/variableDetail'\n",
    "        , style=style, ensure_option=True, disabled=False)\n",
    "inf_var_dropdown = widgets.Combobox(placeholder='Select',options = [], description='inferred variable'\n",
    "        , style=style, ensure_option=True, disabled=False)\n",
    "inf_var_units_dropdown = widgets.Combobox(placeholder='Select',options = [], description='units(Inferred Variable)'\n",
    "        , style=style, ensure_option=True, disabled=False)"
   ]
  },
  {
   "cell_type": "code",
   "execution_count": 6,
   "id": "impossible-applicant",
   "metadata": {},
   "outputs": [],
   "source": [
    "def inf_var_dropdown_eventhandler(change):\n",
    "    global input_sent_list\n",
    "    \n",
    "    output_inf_var_units.clear_output()\n",
    "    \n",
    "    inf_var_type_val = change.new\n",
    "    \n",
    "    input_sent_list = input_sent_list[:4]\n",
    "    input_sent_list.append(inf_var_type_val)\n",
    "    input_sent = (',').join(input_sent_list)\n",
    "    \n",
    "    isInf = True if variableType == 'inferred' else False\n",
    "    res = predict_chain4.predict_seq(input_sent, isInferred=isInf)['0']\n",
    "\n",
    "    displayChildren(res, inf_var_units_dropdown, None, False, is_units=True)\n",
    "\n",
    "    with output_inf_var_units:\n",
    "        clear_output()\n",
    "        display(inf_var_units_dropdown)\n",
    "    "
   ]
  },
  {
   "cell_type": "code",
   "execution_count": 7,
   "id": "judicial-accessory",
   "metadata": {},
   "outputs": [],
   "source": [
    "def int_var_det_dropdown_eventhandler(change):\n",
    "    global input_sent_list\n",
    "\n",
    "    output_inf_var.clear_output()\n",
    "    output_inf_var_units.clear_output()\n",
    "    \n",
    "    int_var_det_value = change.new\n",
    "    \n",
    "    input_sent_list = input_sent_list[:3]\n",
    "    input_sent_list.append(int_var_det_value)\n",
    "    input_sent = (',').join(input_sent_list)\n",
    "    \n",
    "    isInf = True if variableType == 'inferred' else False\n",
    "    res = predict_chain4.predict_seq(input_sent, isInferred=isInf)['0']\n",
    "\n",
    "    displayChildren(res, inf_var_dropdown, inf_var_dropdown_eventhandler, True)\n",
    "\n",
    "    with output_inf_var:\n",
    "        clear_output()\n",
    "        display(inf_var_dropdown)"
   ]
  },
  {
   "cell_type": "code",
   "execution_count": 8,
   "id": "dried-creativity",
   "metadata": {},
   "outputs": [],
   "source": [
    "def int_var_dropdown_eventhandler(change):\n",
    "    global input_sent_list\n",
    "    \n",
    "    output_int_var_det.clear_output()\n",
    "    output_inf_var.clear_output()\n",
    "    output_inf_var_units.clear_output()\n",
    "    \n",
    "    int_var_type_value = change.new\n",
    "    \n",
    "    input_sent_list = input_sent_list[:2]\n",
    "    input_sent_list.append(int_var_type_value)\n",
    "    input_sent = (',').join(input_sent_list)\n",
    "    \n",
    "    isInf = True if variableType == 'inferred' else False\n",
    "    res = predict_chain4.predict_seq(input_sent, isInferred=isInf)['0']\n",
    "\n",
    "    displayChildren(res, int_var_det_dropdown, int_var_det_dropdown_eventhandler, True)\n",
    "\n",
    "    with output_int_var_det:\n",
    "        clear_output()\n",
    "        display(int_var_det_dropdown)"
   ]
  },
  {
   "cell_type": "code",
   "execution_count": 9,
   "id": "declared-guess",
   "metadata": {},
   "outputs": [],
   "source": [
    "def proxy_dropdown_eventhandler(change):\n",
    "    global input_sent_list\n",
    "    \n",
    "    output_units.clear_output()\n",
    "    output_int_var.clear_output()\n",
    "    output_int_var_det.clear_output()\n",
    "    output_inf_var.clear_output()\n",
    "    output_inf_var_units.clear_output()\n",
    "    \n",
    "    proxy_obs_type_value = change.new\n",
    "    \n",
    "    input_sent_list = input_sent_list[:1]\n",
    "    input_sent_list.append(proxy_obs_type_value)\n",
    "    input_sent = (',').join(input_sent_list)\n",
    "    \n",
    "    isInf = True if variableType == 'inferred' else False\n",
    "    res_chain3 = predict_chain3.predict_seq(input_sent, isInferred=isInf)['0']\n",
    "    res_chain4 = predict_chain4.predict_seq(input_sent, isInferred=isInf)['0']\n",
    "    \n",
    "    displayChildren(res_chain3, units_dropdown, None, False, is_units=True)\n",
    "    displayChildren(res_chain4, int_var_dropdown, int_var_dropdown_eventhandler, True)\n",
    "    \n",
    "    with output_units:\n",
    "        clear_output()\n",
    "        display(units_dropdown)\n",
    "    with output_int_var:\n",
    "        clear_output()\n",
    "        display(int_var_dropdown)\n",
    "    with output_int_var_det:\n",
    "        clear_output()\n",
    "    "
   ]
  },
  {
   "cell_type": "code",
   "execution_count": 10,
   "id": "guided-traveler",
   "metadata": {},
   "outputs": [],
   "source": [
    "def displayChildren(options_list, dropdown_obj, dropdown_eventhandler, to_observe, is_units = False):\n",
    "    \n",
    "    if is_units:\n",
    "        if options_list and options_list[0] == 'NA':\n",
    "            options_list = ['Unitless']\n",
    "        else:\n",
    "            options_list = [x if x != 'NA' else 'Unitless' for x in options_list]   \n",
    "    else:\n",
    "        if options_list and options_list[0] == 'NA':\n",
    "            options_list = ['NA']\n",
    "\n",
    "    dropdown_obj.options = options_list\n",
    "    if to_observe:\n",
    "        dropdown_obj.observe(dropdown_eventhandler, names='value')\n",
    "    "
   ]
  },
  {
   "cell_type": "code",
   "execution_count": 11,
   "id": "earned-roman",
   "metadata": {},
   "outputs": [],
   "source": [
    "def var_type_dropdown_eventhandler(change):\n",
    "    global input_sent_list, variableType\n",
    "    variableType = change.new\n",
    "    \n",
    "    output_proxy.clear_output()\n",
    "    output_units.clear_output()\n",
    "    output_int_var.clear_output()\n",
    "    output_int_var_det.clear_output()\n",
    "    output_inf_var.clear_output()\n",
    "    output_inf_var_units.clear_output()\n",
    "    \n",
    "    isInf = True if variableType == 'inferred' else False\n",
    "\n",
    "    if isInf:\n",
    "        input_sent = (',').join(input_sent_list[:1])\n",
    "        results = predict_chain4.predict_seq(input_sent, isInferred=isInf)['0']\n",
    "    \n",
    "        displayChildren(results, inf_var_dropdown, inf_var_dropdown_eventhandler, True)\n",
    "\n",
    "        with output_inf_var:\n",
    "            output_inf_var.clear_output()\n",
    "            display(inf_var_dropdown)\n",
    "            \n",
    "    else:\n",
    "        input_sent = (',').join(input_sent_list[:1])\n",
    "        results = predict_chain3.predict_seq(input_sent, isInferred=isInf)['0']\n",
    "    \n",
    "        displayChildren(results, proxy_dropdown, proxy_dropdown_eventhandler, True)\n",
    "\n",
    "        with output_proxy:\n",
    "            output_proxy.clear_output()\n",
    "            display(proxy_dropdown)"
   ]
  },
  {
   "cell_type": "code",
   "execution_count": 12,
   "id": "irish-traveler",
   "metadata": {},
   "outputs": [],
   "source": [
    "def archive_type_dropdown_eventhandler(change):\n",
    "    global input_sent_list\n",
    "    archive_type_value = change.new\n",
    "    input_sent_list = []\n",
    "    input_sent_list.append(archive_type_value)\n",
    "    \n",
    "    output_proxy.clear_output()\n",
    "    output_units.clear_output()\n",
    "    output_int_var.clear_output()\n",
    "    output_int_var_det.clear_output()\n",
    "    output_inf_var.clear_output()\n",
    "    output_inf_var_units.clear_output()\n",
    "    \n",
    "    var_type_dropdown.observe(var_type_dropdown_eventhandler, names='value')\n",
    "    with output_varType:\n",
    "        output_varType.clear_output()\n",
    "        display(var_type_dropdown)"
   ]
  },
  {
   "cell_type": "code",
   "execution_count": 13,
   "id": "needed-update",
   "metadata": {},
   "outputs": [
    {
     "data": {
      "application/vnd.jupyter.widget-view+json": {
       "model_id": "a61a679bd04440c180b95d19786826a0",
       "version_major": 2,
       "version_minor": 0
      },
      "text/plain": [
       "Dropdown(description='Archive Type', options=('Select', 'Coral', 'GlacierIce', 'Hybrid', 'LakeSediment', 'Mari…"
      ]
     },
     "metadata": {},
     "output_type": "display_data"
    }
   ],
   "source": [
    "archive_type_dropdown.observe(archive_type_dropdown_eventhandler, names='value')\n",
    "\n",
    "display(archive_type_dropdown)"
   ]
  },
  {
   "cell_type": "code",
   "execution_count": 14,
   "id": "lesser-offer",
   "metadata": {},
   "outputs": [
    {
     "data": {
      "application/vnd.jupyter.widget-view+json": {
       "model_id": "babeee39d50d457eaf49dab2d69eb1e1",
       "version_major": 2,
       "version_minor": 0
      },
      "text/plain": [
       "VBox(children=(HBox(children=(Output(),)), HBox(children=(Output(),)), HBox(children=(Output(),)), HBox(childr…"
      ]
     },
     "metadata": {},
     "output_type": "display_data"
    }
   ],
   "source": [
    "zero_line = HBox([output_varType])\n",
    "first_line = HBox([output_proxy])\n",
    "second_line = HBox([output_units])\n",
    "third_line = HBox([output_int_var, output_int_var_det])\n",
    "fourth_line = HBox([output_inf_var, output_inf_var_units])\n",
    "VBox([zero_line, first_line, second_line, third_line, fourth_line])"
   ]
  },
  {
   "cell_type": "code",
   "execution_count": null,
   "id": "false-mathematics",
   "metadata": {},
   "outputs": [],
   "source": []
  },
  {
   "cell_type": "code",
   "execution_count": null,
   "id": "sweet-amazon",
   "metadata": {},
   "outputs": [],
   "source": []
  },
  {
   "cell_type": "code",
   "execution_count": null,
   "id": "special-nothing",
   "metadata": {},
   "outputs": [],
   "source": []
  },
  {
   "cell_type": "code",
   "execution_count": null,
   "id": "seven-contractor",
   "metadata": {},
   "outputs": [],
   "source": []
  },
  {
   "cell_type": "code",
   "execution_count": null,
   "id": "drawn-roommate",
   "metadata": {},
   "outputs": [],
   "source": []
  }
 ],
 "metadata": {
  "kernelspec": {
   "display_name": "Python 3",
   "language": "python",
   "name": "python3"
  },
  "language_info": {
   "codemirror_mode": {
    "name": "ipython",
    "version": 3
   },
   "file_extension": ".py",
   "mimetype": "text/x-python",
   "name": "python",
   "nbconvert_exporter": "python",
   "pygments_lexer": "ipython3",
   "version": "3.8.3"
  }
 },
 "nbformat": 4,
 "nbformat_minor": 5
}
