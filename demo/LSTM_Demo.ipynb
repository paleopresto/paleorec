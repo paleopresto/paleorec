{
 "cells": [
  {
   "cell_type": "code",
   "execution_count": 16,
   "id": "purple-coach",
   "metadata": {},
   "outputs": [],
   "source": [
    "import pandas as pd\n",
    "import numpy as np\n",
    "\n",
    "import sys\n",
    "sys.path.insert(1, '../prediction/lstm/')\n",
    "from LSTMpredict import LSTMpredict\n",
    "\n",
    "import torch\n",
    "import torch.nn as nn\n",
    "import torch.nn.functional as F\n",
    "\n",
    "from collections import Counter\n",
    "import os\n",
    "from argparse import Namespace\n",
    "import json\n",
    "import ipywidgets as widgets\n",
    "from IPython.display import display\n",
    "from IPython.display import clear_output\n",
    "from ipywidgets import HBox, VBox"
   ]
  },
  {
   "cell_type": "code",
   "execution_count": 17,
   "id": "legitimate-backing",
   "metadata": {},
   "outputs": [],
   "source": [
    "predict_obj = LSTMpredict(model_file_path='../data/model_lstm/', mc_model_file_path='../data/model_mc/', topk=5)\n",
    "names_set = predict_obj.names_set[0]\n",
    "reference_dict_val = predict_obj.reference_dict_val\n",
    "reference_dict = predict_obj.reference_dict\n",
    "inv_ref_dict = {val:key for key,val in reference_dict.items()}"
   ]
  },
  {
   "cell_type": "code",
   "execution_count": 18,
   "id": "quiet-fortune",
   "metadata": {},
   "outputs": [
    {
     "data": {
      "text/plain": [
       "{'h': 'h',\n",
       " 'Mg/Ca': 'Mg/Ca',\n",
       " 'NA': 'NA',\n",
       " 'MarineSediment': 'MarineSediment',\n",
       " 'Temperature': 'Temperature',\n",
       " 'Subsurface': 'Subsurface',\n",
       " 'Subsurface Temperature': 'SubsurfaceTemperature',\n",
       " 'degC': 'degC',\n",
       " 'D18O': 'D18O',\n",
       " 'Wood': 'Wood',\n",
       " 'Trsgi': 'Trsgi',\n",
       " 'uncertainty_temperature': 'uncertainty_temperature',\n",
       " 'Sea Surface': 'SeaSurface',\n",
       " 'Sea Surface Temperature': 'SeaSurfaceTemperature',\n",
       " 'Rbar': 'Rbar',\n",
       " 'Corrs': 'Corrs',\n",
       " 'D18Osw': 'D18Osw',\n",
       " 'permil SMOW': 'permilSMOW',\n",
       " 'Coral': 'Coral',\n",
       " 'ARS': 'ARS',\n",
       " 'Composite': 'Composite',\n",
       " 'permil': 'permil',\n",
       " 'Density': 'Density',\n",
       " 'Air Surface': 'AirSurface',\n",
       " 'Air Surface Temperature': 'AirSurfaceTemperature',\n",
       " 'SE': 'SE',\n",
       " 'Segment': 'Segment',\n",
       " 'D13C': 'D13C',\n",
       " 'Thermocline Temperature': 'ThermoclineTemperature',\n",
       " 'Residual': 'Residual',\n",
       " 'GlacierIce': 'GlacierIce',\n",
       " 'Air Condensationlevel': 'AirCondensationlevel',\n",
       " 'Air Condensationlevel Temperature': 'AirCondensationlevelTemperature',\n",
       " 'Ringwidth': 'Ringwidth',\n",
       " 'D180W': 'D180W',\n",
       " 'Sea Surface D18Osw': 'SeaSurfaceD18Osw',\n",
       " 'Thermocline': 'Thermocline',\n",
       " 'Calcification': 'Calcification',\n",
       " 'SD': 'SD',\n",
       " 'rep diff.': 'repdiff.',\n",
       " 'Ice Volume': 'IceVolume',\n",
       " 'Bottom Water': 'BottomWater',\n",
       " 'Bottom Water Ice Volume': 'BottomWaterIceVolume',\n",
       " 'LakeSediment': 'LakeSediment',\n",
       " 'Bsi': 'Bsi',\n",
       " 'EPS': 'EPS',\n",
       " 'Hybrid': 'Hybrid',\n",
       " 'Sclerosponge': 'Sclerosponge',\n",
       " 'Ba/Ca': 'Ba/Ca',\n",
       " 'Dd': 'Dd',\n",
       " 'Core': 'Core',\n",
       " 'Sr/Ca': 'Sr/Ca',\n",
       " 'Bottom Water Temperature': 'BottomWaterTemperature',\n",
       " 'Uk37Prime': 'Uk37Prime',\n",
       " 'Notes': 'Notes',\n",
       " 'Air': 'Air',\n",
       " 'Air Temperature': 'AirTemperature',\n",
       " 'Samplecount': 'Samplecount',\n",
       " 'Temperature And Salinity': 'TemperatureAndSalinity',\n",
       " 'Sea Surface Temperature And Salinity': 'SeaSurfaceTemperatureAndSalinity',\n",
       " 'Uk37': 'Uk37',\n",
       " 'Totalorganiccarbon': 'Totalorganiccarbon',\n",
       " 'Sedimentation Rate': 'SedimentationRate',\n",
       " 'cm/kyr': 'cm/kyr',\n",
       " 'Thickness': 'Thickness',\n",
       " 'C/N': 'C/N',\n",
       " 'period': 'period',\n",
       " 'TEX86': 'TEX86',\n",
       " 'permil VPDB': 'permilVPDB',\n",
       " 'Salinity': 'Salinity',\n",
       " 'Uncorrected Depth': 'UncorrectedDepth',\n",
       " 'Speleothem': 'Speleothem',\n",
       " 'Surface Water': 'SurfaceWater',\n",
       " 'Surface Water Temperature': 'SurfaceWaterTemperature',\n",
       " 'Sample Label': 'SampleLabel',\n",
       " 'D18Ocorr': 'D18Ocorr',\n",
       " 'Sea Surface Salinity': 'SeaSurfaceSalinity',\n",
       " 'psu': 'psu',\n",
       " 'Relative Sea Level': 'RelativeSeaLevel',\n",
       " 'm': 'm',\n",
       " 'Caco3': 'Caco3',\n",
       " 'TRW': 'TRW',\n",
       " 'N': 'N',\n",
       " 'R660_670': 'R660_670',\n",
       " 'Lake Surface': 'LakeSurface',\n",
       " 'Lake Surface Temperature': 'LakeSurfaceTemperature',\n",
       " 'Surface': 'Surface',\n",
       " 'Bottom Water D18Osw': 'BottomWaterD18Osw',\n",
       " 'Thermocline D18Osw': 'ThermoclineD18Osw',\n",
       " 'Surface Water Salinity': 'SurfaceWaterSalinity',\n",
       " 'Surface D18Osw': 'SurfaceD18Osw',\n",
       " 'Subsurface D18Osw': 'SubsurfaceD18Osw',\n",
       " 'MXD': 'MXD',\n",
       " 'MollusckShell': 'MollusckShell',\n",
       " 'Surface Water D18Osw': 'SurfaceWaterD18Osw',\n",
       " 'cm': 'cm'}"
      ]
     },
     "execution_count": 18,
     "metadata": {},
     "output_type": "execute_result"
    }
   ],
   "source": [
    "reference_dict"
   ]
  },
  {
   "cell_type": "code",
   "execution_count": 19,
   "id": "medieval-caribbean",
   "metadata": {},
   "outputs": [],
   "source": [
    "style = {'description_width': 'initial', 'select_width' : 'initial'}\n",
    "variableType = None"
   ]
  },
  {
   "cell_type": "code",
   "execution_count": 20,
   "id": "australian-sector",
   "metadata": {},
   "outputs": [],
   "source": [
    "def display_archive_types(archive_types_list):\n",
    "    archive_types_list.sort()\n",
    "    archive_types_list.insert(0,'Select')\n",
    "    return archive_types_list"
   ]
  },
  {
   "cell_type": "code",
   "execution_count": 21,
   "id": "brutal-simple",
   "metadata": {},
   "outputs": [],
   "source": [
    "archive_type_dropdown = widgets.Dropdown(options = display_archive_types(list(names_set)), description='Archive Type')\n",
    "\n",
    "output_varType = widgets.Output()\n",
    "output_proxy = widgets.Output()\n",
    "output_units = widgets.Output()\n",
    "output_int_var = widgets.Output()\n",
    "output_int_var_det = widgets.Output()\n",
    "output_inf_var = widgets.Output()\n",
    "output_inf_var_units = widgets.Output()\n",
    "\n",
    "var_type_dropdown = widgets.Dropdown(placeholder='Select',options = ['select','measured', 'inferred'], description='variable type'\n",
    "        , style=style, ensure_option=True, disabled=False)\n",
    "proxy_dropdown = widgets.Combobox(placeholder='Select',options = [], description='proxy observation type'\n",
    "        , style=style, ensure_option=True, disabled=False)\n",
    "units_dropdown = widgets.Combobox(placeholder='Select',options =[], description='units(Proxy Observation Type)'\n",
    "        , style=style, ensure_option=True, disabled=False)\n",
    "int_var_dropdown = widgets.Combobox(placeholder='Select',options = [], description='interpretation/variable'\n",
    "        , style=style, ensure_option=True, disabled=False)\n",
    "int_var_det_dropdown = widgets.Combobox(placeholder='Select',options = [], description='interpretation/variableDetail'\n",
    "        , style=style, ensure_option=True, disabled=False)\n",
    "inf_var_dropdown = widgets.Combobox(placeholder='Select',options = [], description='inferred variable'\n",
    "        , style=style, ensure_option=True, disabled=False)\n",
    "inf_var_units_dropdown = widgets.Combobox(placeholder='Select',options = [], description='units(Inferred Variable)'\n",
    "        , style=style, ensure_option=True, disabled=False)"
   ]
  },
  {
   "cell_type": "code",
   "execution_count": 22,
   "id": "cordless-causing",
   "metadata": {},
   "outputs": [],
   "source": [
    "def inf_var_dropdown_eventhandler(change):\n",
    "    global input_sent_list\n",
    "    \n",
    "    output_inf_var_units.clear_output()\n",
    "    \n",
    "    inf_var_type_val = change.new\n",
    "    inf_var_type_val = reference_dict.get(inf_var_type_val)\n",
    "    \n",
    "    if variableType == 'inferred':\n",
    "        input_sent_list = input_sent_list[:1]\n",
    "    else:\n",
    "        input_sent_list = input_sent_list[:4]\n",
    "    input_sent_list.append(inf_var_type_val if inf_var_type_val in reference_dict_val else 'NA')\n",
    "    \n",
    "    isInf = True if variableType == 'inferred' else False\n",
    "    \n",
    "    results = predict_obj.predictForSentence(sentence=','.join(input_sent_list), isInferred=isInf)['0']\n",
    "    \n",
    "    results = [inv_ref_dict.get(val, val) for val in results]\n",
    "    \n",
    "    displayChildren(results, inf_var_units_dropdown, None, False, is_units=True)\n",
    "\n",
    "    with output_inf_var_units:\n",
    "        output_inf_var_units.clear_output()\n",
    "        display(inf_var_units_dropdown)"
   ]
  },
  {
   "cell_type": "code",
   "execution_count": 23,
   "id": "finnish-seating",
   "metadata": {},
   "outputs": [],
   "source": [
    "def int_var_det_dropdown_eventhandler(change):\n",
    "    global input_sent_list\n",
    "\n",
    "    output_inf_var.clear_output()\n",
    "    output_inf_var_units.clear_output()\n",
    "    \n",
    "    int_var_det_value = change.new\n",
    "    int_var_det_value = reference_dict.get(int_var_det_value)\n",
    "    \n",
    "    input_sent_list = input_sent_list[:3]\n",
    "    input_sent_list.append(int_var_det_value if int_var_det_value in reference_dict_val else 'NA')\n",
    "    \n",
    "    isInf = True if variableType == 'inferred' else False\n",
    "    results = predict_obj.predictForSentence(sentence=','.join(input_sent_list), isInferred=isInf)['0']\n",
    "    results = [inv_ref_dict.get(val, val) for val in results]\n",
    "    displayChildren(results, inf_var_dropdown, inf_var_dropdown_eventhandler, True)\n",
    "\n",
    "    with output_inf_var:\n",
    "        output_inf_var.clear_output()\n",
    "        display(inf_var_dropdown)"
   ]
  },
  {
   "cell_type": "code",
   "execution_count": 24,
   "id": "upper-envelope",
   "metadata": {},
   "outputs": [],
   "source": [
    "def int_var_dropdown_eventhandler(change):\n",
    "    global input_sent_list\n",
    "    \n",
    "    output_int_var_det.clear_output()\n",
    "    output_inf_var.clear_output()\n",
    "    output_inf_var_units.clear_output()\n",
    "    \n",
    "    int_var_type_value = change.new\n",
    "    int_var_type_value = reference_dict.get(int_var_type_value)\n",
    "    \n",
    "    input_sent_list = input_sent_list[:2]\n",
    "    input_sent_list.append(int_var_type_value if int_var_type_value in reference_dict_val else 'NA')\n",
    "    \n",
    "    isInf = True if variableType == 'inferred' else False\n",
    "    results = predict_obj.predictForSentence(sentence=','.join(input_sent_list), isInferred=isInf)['0']\n",
    "    results = [inv_ref_dict.get(val, val) for val in results]\n",
    "    displayChildren(results, int_var_det_dropdown, int_var_det_dropdown_eventhandler, True)\n",
    "\n",
    "    with output_int_var_det:\n",
    "        output_int_var_det.clear_output()\n",
    "        display(int_var_det_dropdown)"
   ]
  },
  {
   "cell_type": "code",
   "execution_count": 25,
   "id": "reliable-sequence",
   "metadata": {},
   "outputs": [],
   "source": [
    "def proxy_dropdown_eventhandler(change):\n",
    "    global input_sent_list\n",
    "    \n",
    "    output_units.clear_output()\n",
    "    output_int_var.clear_output()\n",
    "    output_int_var_det.clear_output()\n",
    "    output_inf_var.clear_output()\n",
    "    output_inf_var_units.clear_output()\n",
    "    \n",
    "    proxy_obs_type_value = change.new\n",
    "    proxy_obs_type_value = reference_dict.get(proxy_obs_type_value)\n",
    "    \n",
    "    input_sent_list = input_sent_list[:1]\n",
    "    input_sent_list.append(proxy_obs_type_value if proxy_obs_type_value in reference_dict_val else 'NA')\n",
    "    \n",
    "    isInf = True if variableType == 'inferred' else False\n",
    "    results_untis =  predict_obj.predictForSentence(sentence=','.join(input_sent_list), isInferred=isInf)['0']\n",
    "    results = predict_obj.predictForSentence(sentence=','.join(input_sent_list), isInferred=isInf)['1']\n",
    "    \n",
    "    results_untis = [inv_ref_dict.get(val, val) for val in results_untis]\n",
    "    results = [inv_ref_dict.get(val, val) for val in results]\n",
    "    \n",
    "    displayChildren(results_untis, units_dropdown, None, False, is_units=True)\n",
    "    displayChildren(results, int_var_dropdown, int_var_dropdown_eventhandler, True)\n",
    "    \n",
    "    with output_units:\n",
    "        output_units.clear_output()\n",
    "        display(units_dropdown)\n",
    "    with output_int_var:\n",
    "        output_int_var.clear_output()\n",
    "        display(int_var_dropdown)\n",
    "    with output_int_var_det:\n",
    "        output_int_var_det.clear_output()"
   ]
  },
  {
   "cell_type": "code",
   "execution_count": 26,
   "id": "defined-sheet",
   "metadata": {},
   "outputs": [],
   "source": [
    "def displayChildren(options_list, dropdown_obj, dropdown_eventhandler, to_observe, is_units = False):\n",
    "    \n",
    "    if is_units:\n",
    "        if options_list and len(options_list) == 1 and options_list[0] == 'NA':\n",
    "            options_list = ['Unitless']\n",
    "        else:\n",
    "            options_list = [x if x != 'NA' else 'Unitless' for x in options_list]   \n",
    "    else:\n",
    "        if options_list and len(options_list) == 1 and options_list[0] == 'NA':\n",
    "            options_list = ['NA']\n",
    "\n",
    "    dropdown_obj.options = options_list\n",
    "    if to_observe:\n",
    "        dropdown_obj.observe(dropdown_eventhandler, names='value')"
   ]
  },
  {
   "cell_type": "code",
   "execution_count": 27,
   "id": "impossible-affairs",
   "metadata": {},
   "outputs": [],
   "source": [
    "def var_type_dropdown_eventhandler(change):\n",
    "    global input_sent_list, variableType\n",
    "    variableType = change.new\n",
    "    input_sent_list = input_sent_list[:1]\n",
    "    \n",
    "    output_proxy.clear_output()\n",
    "    output_units.clear_output()\n",
    "    output_int_var.clear_output()\n",
    "    output_int_var_det.clear_output()\n",
    "    output_inf_var.clear_output()\n",
    "    output_inf_var_units.clear_output()\n",
    "    \n",
    "    isInf = True if variableType == 'inferred' else False\n",
    "\n",
    "    if isInf:\n",
    "\n",
    "        results = predict_obj.predictForSentence(sentence=','.join(input_sent_list[:1]), isInferred=isInf)['0']\n",
    "        results = [inv_ref_dict.get(val, val) for val in results]\n",
    "        displayChildren(results, inf_var_dropdown, inf_var_dropdown_eventhandler, True)\n",
    "\n",
    "        with output_inf_var:\n",
    "            output_inf_var.clear_output()\n",
    "            display(inf_var_dropdown)\n",
    "    else:\n",
    "\n",
    "        results = predict_obj.predictForSentence(sentence=','.join(input_sent_list[:1]), isInferred=isInf)['0']\n",
    "        results = [inv_ref_dict.get(val, val) for val in results]\n",
    "        displayChildren(results, proxy_dropdown, proxy_dropdown_eventhandler, True)\n",
    "\n",
    "        with output_proxy:\n",
    "            output_proxy.clear_output()\n",
    "            display(proxy_dropdown)"
   ]
  },
  {
   "cell_type": "code",
   "execution_count": 28,
   "id": "cross-spectacular",
   "metadata": {},
   "outputs": [],
   "source": [
    "def archive_type_dropdown_eventhandler(change):\n",
    "    global input_sent_list\n",
    "    archive_type_value = change.new\n",
    "    input_sent_list = []\n",
    "    input_sent_list.append(archive_type_value if archive_type_value in reference_dict_val else 'NA')\n",
    "    \n",
    "    output_proxy.clear_output()\n",
    "    output_units.clear_output()\n",
    "    output_int_var.clear_output()\n",
    "    output_int_var_det.clear_output()\n",
    "    output_inf_var.clear_output()\n",
    "    output_inf_var_units.clear_output()\n",
    "    \n",
    "    var_type_dropdown.observe(var_type_dropdown_eventhandler, names='value')\n",
    "    with output_varType:\n",
    "        output_varType.clear_output()\n",
    "        display(var_type_dropdown)"
   ]
  },
  {
   "cell_type": "code",
   "execution_count": 29,
   "id": "protecting-repair",
   "metadata": {},
   "outputs": [
    {
     "data": {
      "application/vnd.jupyter.widget-view+json": {
       "model_id": "0903cdcf85a846f7bda2245f22a9c214",
       "version_major": 2,
       "version_minor": 0
      },
      "text/plain": [
       "Dropdown(description='Archive Type', options=('Select', 'Coral', 'GlacierIce', 'Hybrid', 'LakeSediment', 'Mari…"
      ]
     },
     "metadata": {},
     "output_type": "display_data"
    }
   ],
   "source": [
    "archive_type_dropdown.observe(archive_type_dropdown_eventhandler, names='value')\n",
    "\n",
    "display(archive_type_dropdown)"
   ]
  },
  {
   "cell_type": "code",
   "execution_count": 30,
   "id": "personalized-capital",
   "metadata": {},
   "outputs": [
    {
     "data": {
      "application/vnd.jupyter.widget-view+json": {
       "model_id": "ee2cf866fc5e46b28e175069c6dedb15",
       "version_major": 2,
       "version_minor": 0
      },
      "text/plain": [
       "VBox(children=(HBox(children=(Output(),)), HBox(children=(Output(),)), HBox(children=(Output(),)), HBox(childr…"
      ]
     },
     "metadata": {},
     "output_type": "display_data"
    }
   ],
   "source": [
    "zero_line = HBox([output_varType])\n",
    "first_line = HBox([output_proxy])\n",
    "second_line = HBox([output_units])\n",
    "third_line = HBox([output_int_var, output_int_var_det])\n",
    "fourth_line = HBox([output_inf_var, output_inf_var_units])\n",
    "VBox([zero_line, first_line, second_line, third_line, fourth_line])"
   ]
  },
  {
   "cell_type": "code",
   "execution_count": null,
   "id": "macro-istanbul",
   "metadata": {},
   "outputs": [],
   "source": []
  },
  {
   "cell_type": "code",
   "execution_count": null,
   "id": "impaired-weekend",
   "metadata": {},
   "outputs": [],
   "source": []
  },
  {
   "cell_type": "code",
   "execution_count": null,
   "id": "extensive-cincinnati",
   "metadata": {},
   "outputs": [],
   "source": []
  },
  {
   "cell_type": "code",
   "execution_count": null,
   "id": "developmental-bracelet",
   "metadata": {},
   "outputs": [],
   "source": []
  },
  {
   "cell_type": "code",
   "execution_count": null,
   "id": "primary-profit",
   "metadata": {},
   "outputs": [],
   "source": []
  },
  {
   "cell_type": "code",
   "execution_count": null,
   "id": "verified-lighting",
   "metadata": {},
   "outputs": [],
   "source": []
  },
  {
   "cell_type": "code",
   "execution_count": null,
   "id": "handy-plate",
   "metadata": {},
   "outputs": [],
   "source": []
  }
 ],
 "metadata": {
  "kernelspec": {
   "display_name": "Python 3",
   "language": "python",
   "name": "python3"
  },
  "language_info": {
   "codemirror_mode": {
    "name": "ipython",
    "version": 3
   },
   "file_extension": ".py",
   "mimetype": "text/x-python",
   "name": "python",
   "nbconvert_exporter": "python",
   "pygments_lexer": "ipython3",
   "version": "3.8.3"
  }
 },
 "nbformat": 4,
 "nbformat_minor": 5
}
